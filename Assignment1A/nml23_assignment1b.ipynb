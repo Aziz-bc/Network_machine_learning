{
  "cells": [
    {
      "cell_type": "markdown",
      "metadata": {
        "id": "8S5mo9I3pA2Q"
      },
      "source": [
        "# [NML23] Assignment 1B: Network Models\n",
        "\n",
        "TAs: [Ortal Senouf](https://people.epfl.ch/ortal.senouf) and [William Cappelletti](https://people.epfl.ch/william.cappelletti)"
      ]
    },
    {
      "attachments": {},
      "cell_type": "markdown",
      "metadata": {
        "id": "5fKV_i9ZpA2U"
      },
      "source": [
        "## Students\n",
        "\n",
        "* Team: `<3>`\n",
        "* Students: `<Ahmed Nour Achiche>` (for the indivudual submission) or `<Mohamed Aziz Ben Chaabene>` (for the team submission)"
      ]
    },
    {
      "cell_type": "markdown",
      "metadata": {
        "id": "aKj5_Hb1-tBm"
      },
      "source": [
        "## Rules\n",
        "\n",
        "> ⚠️ **Read carefully before starting**\n",
        "\n",
        "**Deadline:** March 28th\n",
        "\n",
        "**Grading:**\n",
        "* The integrality of Assignment 1 will be scaled to 100% and will amount to 25% of the overall assignments score.\n",
        "* The total number of points for part B is **52**, the points for each exercise are stated in the instructions.\n",
        "* All team members will receive the same grade based on the team solution.\n",
        "* Collaboration between team members is encouraged. No collaboration between teams is allowed.\n",
        "\n",
        "**Expected output:**\n",
        "\n",
        "You will have coding and theoretical questions. Coding exercises shall be solved within the specified space:\n",
        "```python\n",
        "# Your solution here ###########################################################\n",
        "...\n",
        "#^^^^^^^^^^^^^^^^^^^^^^^^^^^^^^^^^^^^^^^^^^^^^^^^^^^^^^^^^^^^^^^^^^^^^^^^^^^^^^^\n",
        "```\n",
        "Anything outside shall not be touched, except if otherwise stated.\n",
        "\n",
        "Theoretical questions shall be answered in the following markdown cell. The first line will be \n",
        "> **Your answer here:**\n",
        "\n",
        "**Submission:**\n",
        "* Your submission is self-contained in the `.ipynb` file.\n",
        "\n",
        "* Code has to be clean and readable. Provide meaningful variable names and comment where needed.\n",
        "\n",
        "* Textual answers in [markdown cells][md_cells] shall be short: one to two\n",
        "  sentences. Math shall be written in [LaTeX][md_latex].\n",
        "    **NOTE**: handwritten notes pasted in the notebook are ignored\n",
        "\n",
        "* You cannot import any other library than we imported.\n",
        "  Note that Networkx is imported in the second section and cannot be used in the first except for the Question 4 of Section 1 (at the indicated portion only).\n",
        "\n",
        "* Make sure all cells are executed before submitting. I.e., if you open the notebook again it should show numerical results and plots. Cells not run are ignored.\n",
        "\n",
        "* Execute your notebook from a blank state before submission, to make sure it is reproducible. You can click \"Kernel\" then \"Restart Kernel and Run All Cells\" in Jupyter. We might re-run cells to ensure that the code is working and corresponds to the results.\n",
        "\n",
        "[md_cells]: https://jupyter-notebook.readthedocs.io/en/stable/examples/Notebook/Working%20With%20Markdown%20Cells.html\n",
        "[md_latex]: https://jupyter-notebook.readthedocs.io/en/stable/examples/Notebook/Working%20With%20Markdown%20Cells.html#LaTeX-equations"
      ]
    },
    {
      "cell_type": "markdown",
      "metadata": {
        "id": "cmp4-YzspA2V"
      },
      "source": [
        "## Objective\n",
        "\n",
        "The purpose of this assignment is to explore a given dataset, represent it by network by constructing different graphs. In the first section, you analyzed various network properties. In this second section, you will explore various network models and find out the network model fitting the ones you construct from the dataset."
      ]
    },
    {
      "cell_type": "code",
      "execution_count": 2,
      "metadata": {
        "id": "cve__kFpKJPB"
      },
      "outputs": [
        {
          "data": {
            "text/plain": [
              "\"!pip install networkx==3.0 -q\\n!wget --no-check-certificate 'https://docs.google.com/uc?export=download&id=1Ze-vDx_cMr7iNkivv8LLhniEtp4RD1ug' -O data_1b.pickle\""
            ]
          },
          "execution_count": 2,
          "metadata": {},
          "output_type": "execute_result"
        }
      ],
      "source": [
        "'''!pip install networkx==3.0 -q\n",
        "!wget --no-check-certificate 'https://docs.google.com/uc?export=download&id=1Ze-vDx_cMr7iNkivv8LLhniEtp4RD1ug' -O data_1b.pickle'''"
      ]
    },
    {
      "cell_type": "code",
      "execution_count": 1,
      "metadata": {},
      "outputs": [],
      "source": [
        "import os\n",
        "import urllib.request\n",
        "\n",
        "\n",
        "# Install networkx 3.0\n",
        "os.system('pip install networkx==3.0 -q')\n",
        "\n",
        "# Download data_1b.pickle from Google Drive\n",
        "url = 'https://docs.google.com/uc?export=download&id=1Ze-vDx_cMr7iNkivv8LLhniEtp4RD1ug'\n",
        "filename = 'data_1b.pickle'\n",
        "if not os.path.exists(filename):\n",
        "    urllib.request.urlretrieve(url, filename)\n",
        "\n"
      ]
    },
    {
      "cell_type": "code",
      "execution_count": 2,
      "metadata": {
        "id": "l1NdR_noi-Wv"
      },
      "outputs": [],
      "source": [
        "import pickle\n",
        "\n",
        "import matplotlib.pyplot as plt\n",
        "import numpy as np\n",
        "\n",
        "with open(\"data_1b.pickle\", \"rb\") as f:\n",
        "    data_1b = pickle.load(f)\n",
        "f.close()\n",
        "A_citation = data_1b['cit_graph']\n",
        "A_feature_pruned = data_1b['feat_graph']"
      ]
    },
    {
      "cell_type": "markdown",
      "metadata": {
        "id": "ypqiZkDqpA2j"
      },
      "source": [
        "## Section B: Network Models\n",
        "\n",
        "In this section, you will analyze the feature and citation graphs you constructed in the previous section in terms of the network model types.\n",
        "For this purpose, you can use the NetworkX libary imported below. **Notice** that the citation and features adjency matrices were given to you in the previous code block.  "
      ]
    },
    {
      "cell_type": "code",
      "execution_count": 3,
      "metadata": {
        "id": "JmopO_ynpA2k"
      },
      "outputs": [],
      "source": [
        "import networkx as nx"
      ]
    },
    {
      "cell_type": "markdown",
      "metadata": {
        "id": "_S4Tfk9LpA2k"
      },
      "source": [
        "The next cell creates NetworkX graph objects from the adjacency matrices computed in the previous section. "
      ]
    },
    {
      "cell_type": "code",
      "execution_count": 4,
      "metadata": {
        "id": "qEtZo52kpA2k"
      },
      "outputs": [
        {
          "name": "stdout",
          "output_type": "stream",
          "text": [
            "Number of nodes: 418, Number of edges: 827\n",
            "Number of self-loops: 0, Number of connected components: 16\n"
          ]
        }
      ],
      "source": [
        "G_citation = nx.from_numpy_array(A_citation)\n",
        "print('Number of nodes: {}, Number of edges: {}'. format(G_citation.number_of_nodes(), G_citation.number_of_edges()))\n",
        "print('Number of self-loops: {}, Number of connected components: {}'. format(nx.number_of_selfloops(G_citation), nx.number_connected_components(G_citation)))"
      ]
    },
    {
      "cell_type": "markdown",
      "metadata": {
        "id": "DLvCF7PupA2k"
      },
      "source": [
        "In the rest of this assignment, we will consider the pruned feature graph as the feature network."
      ]
    },
    {
      "cell_type": "code",
      "execution_count": 5,
      "metadata": {
        "id": "otYyMSyrpA2k"
      },
      "outputs": [
        {
          "name": "stdout",
          "output_type": "stream",
          "text": [
            "Number of nodes: 418, Number of edges: 2364\n",
            "Number of self-loops: 0, Number of connected components: 324\n"
          ]
        }
      ],
      "source": [
        "G_feature = nx.from_numpy_array(A_feature_pruned)\n",
        "print('Number of nodes: {}, Number of edges: {}'. format(G_feature.number_of_nodes(), G_feature.number_of_edges()))\n",
        "print('Number of self-loops: {}, Number of connected components: {}'. format(nx.number_of_selfloops(G_feature), nx.number_connected_components(G_feature)))"
      ]
    },
    {
      "cell_type": "markdown",
      "metadata": {
        "id": "5Q4SfbR5pA2k"
      },
      "source": [
        "### Question 5 [8pt]: Simulation with the Erdős–Rényi (ER) random model"
      ]
    },
    {
      "cell_type": "markdown",
      "metadata": {},
      "source": [
        "Create an ER graph using NetworkX to simulate the citation graph and the feature graph you have. When choosing parameters for the networks, take into account the number of vertices and edges of the original networks.\n",
        "\n",
        "The number of nodes should exactly match the number of nodes in the original citation and feature graphs."
      ]
    },
    {
      "cell_type": "code",
      "execution_count": 6,
      "metadata": {
        "id": "xJgO2LHYpA2k"
      },
      "outputs": [
        {
          "data": {
            "text/plain": [
              "418"
            ]
          },
          "execution_count": 6,
          "metadata": {},
          "output_type": "execute_result"
        }
      ],
      "source": [
        "assert len(G_citation.nodes()) == len(G_feature.nodes())\n",
        "n = len(G_citation.nodes())\n",
        "n"
      ]
    },
    {
      "cell_type": "markdown",
      "metadata": {
        "id": "t8YP2dyApA2k"
      },
      "source": [
        "We pick the number of links as the average of the number of edges in the citation and the feature graph."
      ]
    },
    {
      "cell_type": "code",
      "execution_count": 7,
      "metadata": {
        "id": "iOp0dHljpA2k"
      },
      "outputs": [
        {
          "data": {
            "text/plain": [
              "1596.0"
            ]
          },
          "execution_count": 7,
          "metadata": {},
          "output_type": "execute_result"
        }
      ],
      "source": [
        "m = np.round((G_citation.size() + G_feature.size()) / 2)\n",
        "m"
      ]
    },
    {
      "cell_type": "markdown",
      "metadata": {
        "id": "1cwoXtUZpA2k"
      },
      "source": [
        "**5.1 [2pt]** Explain how to determine the probability parameter for the Erdős–Rényi graph and crate a sample graph with NetworkX"
      ]
    },
    {
      "attachments": {},
      "cell_type": "markdown",
      "metadata": {
        "id": "sn8cz-vLpA2l"
      },
      "source": [
        "**Your answer here:** \n",
        "\n",
        "The probability parameter p for an Erdős–Rényi graph with n nodes and m edges is computed as follows:\n",
        "\n",
        "$$p = \\frac{2m}{n(n-1)}$$\n",
        "\n",
        "This equation is derived from the fact that an Erdős–Rényi graph with n nodes and m edges is created by randomly adding m edges to n nodes, with the chance of an edge being added equal to p."
      ]
    },
    {
      "cell_type": "code",
      "execution_count": 8,
      "metadata": {
        "id": "k8Bi6TJ1pA2l"
      },
      "outputs": [],
      "source": [
        "# Your solution here ###########################################################\n",
        "p = m / (n * (n - 1) / 2)\n",
        "#^^^^^^^^^^^^^^^^^^^^^^^^^^^^^^^^^^^^^^^^^^^^^^^^^^^^^^^^^^^^^^^^^^^^^^^^^^^^^^^\n",
        "G_er = nx.erdos_renyi_graph(n, p)"
      ]
    },
    {
      "cell_type": "markdown",
      "metadata": {
        "id": "BHdnG-B3pA2l"
      },
      "source": [
        "Check the number of edges in the Erdős–Rényi graph."
      ]
    },
    {
      "cell_type": "code",
      "execution_count": 9,
      "metadata": {
        "id": "8Cqtu5RdpA2l"
      },
      "outputs": [
        {
          "name": "stdout",
          "output_type": "stream",
          "text": [
            "My Erdos-Rényi network that simulates the citation graph has 1684 edges.\n"
          ]
        }
      ],
      "source": [
        "print('My Erdos-Rényi network that simulates the citation graph has {} edges.'.format(G_er.size()))"
      ]
    },
    {
      "cell_type": "markdown",
      "metadata": {
        "id": "G-g_5krspA2l"
      },
      "source": [
        "**5.2 [2pt]** Check the size of the largest connected component in the citation, feature, and Erdős–Rényi graphs."
      ]
    },
    {
      "cell_type": "code",
      "execution_count": 10,
      "metadata": {
        "id": "ofef85F8pA2l"
      },
      "outputs": [
        {
          "name": "stdout",
          "output_type": "stream",
          "text": [
            "The giant component of the citation graph has 395 nodes and 818 edges.\n",
            "The giant component of the Erdős-Rényi network has 418 nodes and 1684 edges.\n",
            "The giant component of the feature graph has 82 nodes and 2351 edges.\n"
          ]
        }
      ],
      "source": [
        "# Check the size of the largest connected component in the citation, feature, and Erdős–Rényi graphs\n",
        "\n",
        "\n",
        "citation_components = list(nx.connected_components(G_citation))\n",
        "giant_citation = G_citation.subgraph(max(citation_components, key=len))\n",
        "\n",
        "feature_components = list(nx.connected_components(G_feature))\n",
        "giant_feature = G_feature.subgraph(max(feature_components, key=len))\n",
        "\n",
        "er_components = list(nx.connected_components(G_er))\n",
        "giant_er = G_er.subgraph(max(er_components, key=len))\n",
        "\n",
        "print('The giant component of the citation graph has {} nodes and {} edges.'.format(giant_citation.number_of_nodes(), giant_citation.size()))\n",
        "print('The giant component of the Erdős-Rényi network has {} nodes and {} edges.'.format(giant_er.number_of_nodes(), giant_er.size()))\n",
        "print('The giant component of the feature graph has {} nodes and {} edges.'.format(giant_feature.number_of_nodes(), giant_feature.size()))\n"
      ]
    },
    {
      "cell_type": "markdown",
      "metadata": {
        "id": "bmHH4qkQpA2m"
      },
      "source": [
        "**5.3 [2pt]** Simulate a new Erdős–Rényi network to match the number of nodes in the giant component of the feature graph.\n",
        "Explain how to choose the probability parameter in this setting.\n",
        "\n",
        "*Hint:* Recall the expected giant component size from the lectures."
      ]
    },
    {
      "attachments": {},
      "cell_type": "markdown",
      "metadata": {
        "id": "PdL0Bo4jpA2m"
      },
      "source": [
        "**Your answer here:**  from the course slides we know that \n",
        "\n",
        "$$ S = 1 - e^{-(N - 1) p_{new} S} $$\n",
        "\n",
        "where 'S' is the relative size of the giant component in the feature graph i.e the number of nodes in the giant component of the feature graph divided by the number of nodes in the feature graph, and 'N' is the total number of nodes in the feature graph. $p_{new}$ is the probability of a new edge being added.\n",
        "\n",
        "Therefore, we can solve for $p_{new}$ as follows:\n",
        "\n",
        "$$ p_{new} = \\frac{1}{S (N - 1)} \\ln \\left( \\frac{1}{1 - S} \\right) $$"
      ]
    },
    {
      "cell_type": "code",
      "execution_count": 11,
      "metadata": {
        "id": "s-rhxehnpA2m"
      },
      "outputs": [],
      "source": [
        "# Your solution here ###########################################################\n",
        "S = len(giant_citation.nodes()) / n\n",
        "p_new = np.log( 1 / (1 - S) ) / (S * (n - 1))\n",
        "#^^^^^^^^^^^^^^^^^^^^^^^^^^^^^^^^^^^^^^^^^^^^^^^^^^^^^^^^^^^^^^^^^^^^^^^^^^^^^^^\n",
        "\n",
        "G_er_new = nx.erdos_renyi_graph(n, p_new)"
      ]
    },
    {
      "cell_type": "markdown",
      "metadata": {
        "id": "FKGFC_gTpA2m"
      },
      "source": [
        "Check the size of the new Erdős–Rényi network and its giant component."
      ]
    },
    {
      "cell_type": "code",
      "execution_count": 12,
      "metadata": {
        "id": "XyTfZXOXpA2m"
      },
      "outputs": [
        {
          "name": "stdout",
          "output_type": "stream",
          "text": [
            "My new Erdos Renyi network that simulates the feature graph has 627 edges.\n",
            "The giant component of the new Erdos-Rényi network has 393 nodes and 623 edges.\n"
          ]
        }
      ],
      "source": [
        "print('My new Erdos Renyi network that simulates the feature graph has {} edges.'.format(G_er_new.size()))\n",
        "giant_er_new = G_er_new.subgraph(max(nx.connected_components(G_er_new), key=len)) # Your code here.\n",
        "print('The giant component of the new Erdos-Rényi network has {} nodes and {} edges.'.format(giant_er_new.number_of_nodes(), giant_er_new.size()))"
      ]
    },
    {
      "cell_type": "code",
      "execution_count": 13,
      "metadata": {},
      "outputs": [
        {
          "name": "stdout",
          "output_type": "stream",
          "text": [
            "Density of the giant component in the feature graph: 0.7079193014152364\n",
            "Density of the giant component in the new ER network: 0.008087968011632134\n",
            "Density of the overall feature graph: 0.027124711713882484\n",
            "Density of the overall new ER network: 0.007194244604316547\n"
          ]
        }
      ],
      "source": [
        "# Calculate the size and density of the giant components\n",
        "GC_density_feature = nx.density(giant_feature)\n",
        "GC_density_er_new = nx.density(giant_er_new)\n",
        "\n",
        "# Calculate the size and density of the overall graphs\n",
        "overall_density_feature = nx.density(G_feature)\n",
        "overall_density_er_new = nx.density(G_er_new)\n",
        "\n",
        "# Compare the densities\n",
        "print('Density of the giant component in the feature graph:', GC_density_feature)\n",
        "print('Density of the giant component in the new ER network:', GC_density_er_new)\n",
        "print('Density of the overall feature graph:', overall_density_feature)\n",
        "print('Density of the overall new ER network:', overall_density_er_new)\n"
      ]
    },
    {
      "cell_type": "markdown",
      "metadata": {
        "id": "2wfJtI29mo9B"
      },
      "source": [
        "**5.4 [2 pt]** Is the new ER graph a good fit for the feature graph? Explain in terms of the size and density of the GC and overall graph. Remember that the feature graph in this section is a pruned version of the original dense graph.\n",
        " "
      ]
    },
    {
      "attachments": {},
      "cell_type": "markdown",
      "metadata": {
        "id": "NoISgGS9Yen9"
      },
      "source": [
        "**Your answer here:** TO BE COMPLETED"
      ]
    },
    {
      "cell_type": "markdown",
      "metadata": {
        "id": "7WXWixudpA2m"
      },
      "source": [
        "### Question 6 [8pt]: Degree Distributions and configuration models"
      ]
    },
    {
      "cell_type": "markdown",
      "metadata": {
        "id": "XEgOCcIIpA2m"
      },
      "source": [
        "**6.1 [1pt]** Extract with NetworkX the degree distribution of the citation and the feature graph."
      ]
    },
    {
      "cell_type": "code",
      "execution_count": 14,
      "metadata": {
        "id": "kRfZklhepA2n"
      },
      "outputs": [
        {
          "data": {
            "image/png": "[encoded data removed]",
            "text/plain": [
              "<Figure size 1080x432 with 2 Axes>"
            ]
          },
          "metadata": {
            "needs_background": "light"
          },
          "output_type": "display_data"
        }
      ],
      "source": [
        "# Your solution here ###########################################################\n",
        "citation_degrees = [G_citation.degree(node) for node in G_citation.nodes()]\n",
        "feature_degrees = [G_feature.degree(node) for node in G_feature.nodes()]\n",
        "#^^^^^^^^^^^^^^^^^^^^^^^^^^^^^^^^^^^^^^^^^^^^^^^^^^^^^^^^^^^^^^^^^^^^^^^^^^^^^^^\n",
        "\n",
        "fig, axes = plt.subplots(1, 2, figsize=(15, 6))\n",
        "axes[0].set_title('Citation graph')\n",
        "axes[0].hist(citation_degrees);\n",
        "axes[1].set_title('Feature graph')\n",
        "axes[1].hist(feature_degrees);"
      ]
    },
    {
      "cell_type": "markdown",
      "metadata": {
        "id": "lpeoy65GpA2n"
      },
      "source": [
        "**6.2 [2pt]** Explain what the degree distribution tell us about a network. Then, discuss how to make a prediction on the network model type of the citation and the feature graph by looking at their degree distributions."
      ]
    },
    {
      "attachments": {},
      "cell_type": "markdown",
      "metadata": {
        "id": "uaV76WGzpA2n"
      },
      "source": [
        "**Your answer here:** The distribution of degrees within a network provides us with critical information about the structure and characteristics of the network. It is a measure of how the nodes within the network are interconnected and provides an understanding of the distribution of the number of connections or degrees that each node has. In essence, the examination of the degree distribution can assist in identifying key patterns and features of the network, including whether it is small-world, random, or scale-free. Scale-free networks are characterized by power-law degree distributions, where a few nodes, known as hubs, have an extremely high degree, and the majority of nodes have a low degree. Because both histograms follow a power law, we can infer that both networks follow the scale-free model."
      ]
    },
    {
      "cell_type": "markdown",
      "metadata": {
        "id": "jDYpjrhFpA2n"
      },
      "source": [
        "**6.3 [1pt]** Simulate a network using the configuration model to match the degree distribution of the feature exactly. Refer to [Configuration model](https://networkx.github.io/documentation/stable/reference/generated/networkx.generators.degree_seq.configuration_model.html#networkx.generators.degree_seq.configuration_model).\n"
      ]
    },
    {
      "cell_type": "code",
      "execution_count": 15,
      "metadata": {
        "id": "FS_SUGS_pA2n"
      },
      "outputs": [
        {
          "name": "stdout",
          "output_type": "stream",
          "text": [
            "Configuration model has 418 nodes and 1591 edges.\n",
            "Feature model has 418 nodes and 2364 edges.\n"
          ]
        }
      ],
      "source": [
        "# Your solution here ###########################################################\n",
        "G_config = nx.Graph(nx.configuration_model(feature_degrees))\n",
        "#^^^^^^^^^^^^^^^^^^^^^^^^^^^^^^^^^^^^^^^^^^^^^^^^^^^^^^^^^^^^^^^^^^^^^^^^^^^^^^^\n",
        "print('Configuration model has {} nodes and {} edges.'.format(G_config.number_of_nodes(), G_config.size()))\n",
        "print('Feature model has {} nodes and {} edges.'.format(G_feature.number_of_nodes(), G_feature.size()))"
      ]
    },
    {
      "cell_type": "markdown",
      "metadata": {
        "id": "q086WrWlpA2n"
      },
      "source": [
        "**6.4 [2pt]** Explain if the graph generated by the configuration model is identical to the feature graph. If not, motivate how to understand if they are not the same.\n",
        "\n",
        "In both case, verify your answer with a code."
      ]
    },
    {
      "attachments": {},
      "cell_type": "markdown",
      "metadata": {
        "id": "TbpsBkzBpA2n"
      },
      "source": [
        "**Your answer here:** \n",
        "\n",
        "The graph that is produced by the configuration model may not be exactly the same as the feature graph. The configuration model only guarantees that the produced graph has the same degree sequence as the feature graph, but the specific edges and their connections may vary between the two graphs. In order to determine if the two graphs are identical, we must compare their attributes, such as the number of nodes, number of edges, degree sequence, and graph isomorphism.\n",
        "\n",
        "Graph isomorphism is a property that determines whether two graphs have the same structure. If two graphs are isomorphic, it means that their nodes and edges can be mapped onto each other while preserving adjacency. However, in this case, it should be noted that the configuration model creates a graph with fewer edges than the feature graph, which makes it impossible for the two graphs to be isomorphic.\n"
      ]
    },
    {
      "cell_type": "code",
      "execution_count": 16,
      "metadata": {
        "id": "neG--W1gJgos"
      },
      "outputs": [
        {
          "name": "stdout",
          "output_type": "stream",
          "text": [
            "The graphs are not isomorphic\n"
          ]
        }
      ],
      "source": [
        "# Your solution here ###########################################################\n",
        "# check if two graphs are isomorphic\n",
        "if nx.is_isomorphic(G_config, G_feature):\n",
        "    print('The graphs are isomorphic')\n",
        "else:\n",
        "    print('The graphs are not isomorphic')\n",
        "#^^^^^^^^^^^^^^^^^^^^^^^^^^^^^^^^^^^^^^^^^^^^^^^^^^^^^^^^^^^^^^^^^^^^^^^^^^^^^^^"
      ]
    },
    {
      "cell_type": "markdown",
      "metadata": {
        "id": "jHAB38jptc4m"
      },
      "source": [
        "**6.5 [2pt]** Which alternative model would you choose to match the degree distribution of the original network while mainitaining some structural similarities? "
      ]
    },
    {
      "attachments": {},
      "cell_type": "markdown",
      "metadata": {
        "id": "h7r4PQvCuLAI"
      },
      "source": [
        "**Your answer here:**\n",
        "\n",
        "When attempting to match the distribution of degrees in the initial network while retaining structural similarities, the Chung-Lu model (also identified as the anticipated degree graph model) is a commendable alternative. This model produces a stochastic graph with a given degree sequence, similar to the configuration model. Nevertheless, the Chung-Lu model also preserves certain structural characteristics, such as clustering and degree correlations. \n",
        "\n",
        "The Chung-Lu model constructs a graph by allotting an anticipated degree to each node and then generating links between nodes with a likelihood proportional to the product of their anticipated degrees. This approach ensures that the graph created has a degree distribution comparable to the original network while maintaining some structural properties."
      ]
    },
    {
      "cell_type": "markdown",
      "metadata": {
        "id": "xWBVAfiFpA2n"
      },
      "source": [
        "### Question 7 [11pt]: Clustering Coefficient and Watts-Strogatz model"
      ]
    },
    {
      "cell_type": "markdown",
      "metadata": {
        "id": "zo5Xsa82pA2n"
      },
      "source": [
        "Let us check the average clustering coefficient of the original citation and feature graphs. "
      ]
    },
    {
      "cell_type": "code",
      "execution_count": 17,
      "metadata": {
        "id": "G9fG1MVvpA2o"
      },
      "outputs": [
        {
          "name": "stdout",
          "output_type": "stream",
          "text": [
            "Clustering coefficient of citation graph: 0.31318396750074196\n",
            "Clustering coefficient of feature graph: 0.17909022944594014\n"
          ]
        }
      ],
      "source": [
        "CC_cit = nx.average_clustering(G_citation)\n",
        "CC_feat = nx.average_clustering(G_feature)\n",
        "print(\"Clustering coefficient of citation graph:\", CC_cit)\n",
        "print(\"Clustering coefficient of feature graph:\", CC_feat)"
      ]
    },
    {
      "cell_type": "markdown",
      "metadata": {
        "id": "dH8aUu231OJ-"
      },
      "source": [
        "Let's compare it with the ER random netwrok model:"
      ]
    },
    {
      "cell_type": "code",
      "execution_count": 18,
      "metadata": {
        "id": "76qYRROf1UjP"
      },
      "outputs": [
        {
          "name": "stdout",
          "output_type": "stream",
          "text": [
            "Clustering coefficient of ER graph 0.02013371202084963\n"
          ]
        }
      ],
      "source": [
        "print(\"Clustering coefficient of ER graph\", nx.average_clustering(G_er))"
      ]
    },
    {
      "cell_type": "markdown",
      "metadata": {
        "id": "qSbqq7zkpA2o"
      },
      "source": [
        "**7.1 [2pt]** Explain what the clustering coefficient tell us about a network. Comment on how it compares to the random model."
      ]
    },
    {
      "attachments": {},
      "cell_type": "markdown",
      "metadata": {
        "id": "RaaT0m6npA2o"
      },
      "source": [
        "**Your answer here:** \n",
        "\n",
        "The clustering coefficient is a network metric that assesses the extent to which nodes in the network tend to congregate with each other. It offers insight into the local structure of the network and the probability that a node's neighbors are also linked to each other. A high clustering coefficient indicates that nodes are more likely to form closely-knit groups with a higher density of links between neighbors, while a low clustering coefficient suggests a more sparse network with less interlinked neighbors.\n",
        "\n",
        "Real-world networks generally display higher clustering coefficients in comparison to random models, such as the Erdős-Rényi (ER) random graphs. ER random graphs usually have low clustering coefficients due to their generation by connecting node pairs using uniform probabilities, resulting in a more haphazard distribution of edges and less propensity for nodes to cluster. In contrast, the various factors that promote the formation of interconnected groups or communities within the network lead to a higher degree of clustering in many real-world networks."
      ]
    },
    {
      "cell_type": "markdown",
      "metadata": {
        "id": "gpbTKCnvdi0y"
      },
      "source": [
        "**7.2 [2pt]** In order to model the relatively high cluster coefficient of the **citation** graph while still maintaining the \"small world\" feature you will now create a Watts-Strogatz (WS) graph to fit the citation graph. First, set the regularity parameter $k$ Explain your choice."
      ]
    },
    {
      "attachments": {},
      "cell_type": "markdown",
      "metadata": {
        "id": "uGlBkQtEiF4P"
      },
      "source": [
        "**Your answer here:**\n",
        "\n",
        "The regularity parameter, represented by $k$, in the Watts-Strogatz model is an integer value that determines the initial number of neighbors connected to each node in the regular lattice graph. A suitable choice for $k$ should balance two objectives: \n",
        "\n",
        "(1) preserving the high clustering coefficient of the citation graph \n",
        "(2) maintaining the small-world property with short average path lengths.\n",
        "\n",
        "A common method for determining the value of $k$ is to set it equal to the average degree of the citation graph, as this value serves as a reasonable starting point for preserving the original network's connectivity properties."
      ]
    },
    {
      "cell_type": "code",
      "execution_count": 19,
      "metadata": {
        "id": "mssVCPfdl1V3"
      },
      "outputs": [],
      "source": [
        "# Your solution here ###########################################################\n",
        "# set k_cit to the average degree of the citation graph\n",
        "k_cit = np.round(np.mean(citation_degrees))\n",
        "#^^^^^^^^^^^^^^^^^^^^^^^^^^^^^^^^^^^^^^^^^^^^^^^^^^^^^^^^^^^^^^^^^^^^^^^^^^^^^^^"
      ]
    },
    {
      "cell_type": "markdown",
      "metadata": {
        "id": "wdbFSpSL9ILZ"
      },
      "source": [
        "**7.3 [3pt]** In order to select the optimal randomness parameter $p$ of the WS model we should monitor the clustering coefficient (CC) of the model with respect to $p$. Explain what other property should be monitored. Write a code that create WS networks with values of $p$ from $0$ to $1$ and plot the values of the CC and the other parameter with respect to p.\n",
        "\n",
        "*Note*: plot the x axis in decimal and logarithmic scale and scale the values of the properties by the value at $p=0$. Make sure to select enough points for $p$ in thr range $[0,1]$"
      ]
    },
    {
      "attachments": {},
      "cell_type": "markdown",
      "metadata": {
        "id": "mYjh7Z0CDr46"
      },
      "source": [
        "**Your answer here:**\n",
        "\n",
        "In order to select the optimal randomness parameter $p$ of the WS model, we should monitor the clustering coefficient (CC) of the model with respect to $p$. Another important property to monitor is the average shortest path length (ASPL). This is because the small-world property is characterized by both a high clustering coefficient and short average path lengths."
      ]
    },
    {
      "cell_type": "code",
      "execution_count": 20,
      "metadata": {
        "id": "T3Ra74uKiTof"
      },
      "outputs": [
        {
          "data": {
            "image/png": "[encoded data removed]",
            "text/plain": [
              "<Figure size 1080x432 with 4 Axes>"
            ]
          },
          "metadata": {
            "needs_background": "light"
          },
          "output_type": "display_data"
        }
      ],
      "source": [
        "# Your solution here ###########################################################\n",
        "# prepare the list of values for p\n",
        "n_cit = G_citation.number_of_nodes()\n",
        "p_list = np.linspace(0, 1, 100)\n",
        "# create an empty list to store the clustering coefficients\n",
        "CC_list = []\n",
        "ASPL_list = []\n",
        "# iterate over p values\n",
        "for p in p_list:\n",
        "    # create a new WS network\n",
        "    G_WS = nx.watts_strogatz_graph(int(n_cit), int(k_cit), p)\n",
        "    # calculate the clustering coefficient\n",
        "    CC = nx.average_clustering(G_WS)\n",
        "    # calculate the average shortest path length\n",
        "    ASPL = nx.average_shortest_path_length(G_WS)\n",
        "    # append the clustering coefficient and the average shortest path length to the lists\n",
        "    CC_list.append(CC)\n",
        "    ASPL_list.append(ASPL)\n",
        "\n",
        "# Normalize the values by their respective values at p=0\n",
        "clustering_coeffs = np.array(CC_list) / CC_list[0]\n",
        "avg_shortest_path_lengths = np.array(ASPL_list) / ASPL_list[0]\n",
        "# plot the results (log scale at the x-axis)\n",
        "fig, axes = plt.subplots(2, 2, figsize=(15, 6))\n",
        "axes[0, 0].set_title('Clustering coefficient vs p (log scale)')\n",
        "axes[0, 0].plot(p_list, clustering_coeffs)\n",
        "axes[0, 0].set_xscale('log')\n",
        "axes[0, 1].set_title('Average shortest path length vs p (log scale)')\n",
        "axes[0, 1].plot(p_list, avg_shortest_path_lengths)\n",
        "axes[0, 1].set_xscale('log')\n",
        "axes[1, 0].set_title('Clustering coefficient vs p')\n",
        "axes[1, 0].plot(p_list, clustering_coeffs)\n",
        "axes[1, 1].set_title('Average shortest path length vs p')\n",
        "axes[1, 1].plot(p_list, avg_shortest_path_lengths)\n",
        "plt.tight_layout()\n",
        "#^^^^^^^^^^^^^^^^^^^^^^^^^^^^^^^^^^^^^^^^^^^^^^^^^^^^^^^^^^^^^^^^^^^^^^^^^^^^^^^"
      ]
    },
    {
      "cell_type": "markdown",
      "metadata": {
        "id": "SbUVQfxSK1PX"
      },
      "source": [
        "**7.4 [3pt]** Compute the values of the monitored properties of the real citation graph and scale them by the corresponding values of the WS models at $p=0$. Which $p$ whould you select? Explain and generate the model with the chosen parameters. \n",
        "\n",
        "*Hint*: Notice the connected components of citation graph for the computaion of the other property. "
      ]
    },
    {
      "cell_type": "code",
      "execution_count": 21,
      "metadata": {
        "id": "Ev9pfN65MEFK"
      },
      "outputs": [
        {
          "name": "stdout",
          "output_type": "stream",
          "text": [
            "Optimal p: 0.14\n",
            "The optimized WS graph has 418 nodes and 836 edges.\n",
            "The clustering coefficient of the optimized WS graph is 0.3102301207564363.\n",
            "The average shortest path length of the optimized WS graph is 6.50309226303168.\n",
            "The clustering coefficient of the citation graph is 0.31318396750074196.\n",
            "The average shortest path length of the citation graph is 3.556178114759365.\n"
          ]
        }
      ],
      "source": [
        "# Your solution here ###########################################################\n",
        "# Calculate the properties of the real citation graph\n",
        "ASPL_cit = nx.average_shortest_path_length(giant_citation)\n",
        "# Scale the properties by the corresponding values of the WS models at p=0\n",
        "CC_scaled = CC_cit / CC_list[0]\n",
        "ASPL_scaled = ASPL_cit / ASPL_list[0]\n",
        "# Find the p value that corresponds to the real citation graph\n",
        "diff = np.abs(clustering_coeffs - CC_scaled) + np.abs(avg_shortest_path_lengths - ASPL_scaled)\n",
        "p_opt = p_list[np.argmin(diff)]\n",
        "print('Optimal p:', np.round(p_opt, 2))\n",
        "# Create the optimized WS graph\n",
        "G_ws = nx.watts_strogatz_graph(n, int(k_cit), p_opt)\n",
        "# Calculate the properties of the optimized WS graph\n",
        "print('The optimized WS graph has {} nodes and {} edges.'.format(G_ws.number_of_nodes(), G_ws.size()))\n",
        "print ('The clustering coefficient of the optimized WS graph is {}.'.format(nx.average_clustering(G_ws)))\n",
        "print ('The average shortest path length of the optimized WS graph is {}.'.format(nx.average_shortest_path_length(G_ws)))\n",
        "print ( 'The clustering coefficient of the citation graph is {}.'.format(CC_cit))\n",
        "print ( 'The average shortest path length of the citation graph is {}.'.format(ASPL_cit))\n",
        "#^^^^^^^^^^^^^^^^^^^^^^^^^^^^^^^^^^^^^^^^^^^^^^^^^^^^^^^^^^^^^^^^^^^^^^^^^^^^^^^"
      ]
    },
    {
      "attachments": {},
      "cell_type": "markdown",
      "metadata": {
        "id": "kF9mQdQkkOYp"
      },
      "source": [
        "**Your answer here:**\n",
        "\n",
        "To determine an appropriate value for $p$, we can compare the normalized clustering coefficient and average shortest path length of the actual citation graph with the corresponding values obtained from the Watts-Strogatz models. The objective is to identify a $p$ value that produces a Watts-Strogatz model with characteristics that closely match those of the actual citation graph."
      ]
    },
    {
      "cell_type": "markdown",
      "metadata": {
        "id": "1SDApXpgmTld"
      },
      "source": [
        "**7.5 [1pt]** Explain whether the Watts-Strogatz model provides a good fit for the feature graph.\n",
        "\n",
        "*Hint*: Remember that the feature graph in this section is a pruned version. "
      ]
    },
    {
      "attachments": {},
      "cell_type": "markdown",
      "metadata": {
        "id": "11oaXUt7pxUU"
      },
      "source": [
        "**Your answer here:**\n",
        "\n",
        "since the clustering coefficient and average shortest path length of the Watts-Strogatz model are similar to those of the citation graph, it can be considered a reasonably good match. However, it is important to note that the Watts-Strogatz model may not fully capture some of the more intricate structural properties of the target graph, such as community structure, degree correlations, or particular connectivity patterns.For a more precise representation of the target graph's structure, other graph models that take into account additional properties may be necessary."
      ]
    },
    {
      "cell_type": "markdown",
      "metadata": {
        "id": "IldloL9GC_dp"
      },
      "source": [
        "### Question 8 [8pt]: Comparison to Barabási-Albert (BA) model"
      ]
    },
    {
      "cell_type": "markdown",
      "metadata": {
        "id": "K1AZ_mzApA2l"
      },
      "source": [
        "**8.1 [2pt]** Explain how to determine the preferential attachment parameter for Barabási–Albert graphs. Define $q$ and build the BA graph. "
      ]
    },
    {
      "attachments": {},
      "cell_type": "markdown",
      "metadata": {
        "id": "0WHkOrSnpA2l"
      },
      "source": [
        "**Your answer here:** \n",
        "\n",
        "To determine the preferential attachment parameter for Barabási–Albert (BA) graphs, we should compute the average degree of the network, divide it by 2, and round it to the closest integer value. The preferential attachment parameter, denoted as $q$, signifies the number of edges that each new node generates with existing nodes in the network upon being added."
      ]
    },
    {
      "cell_type": "code",
      "execution_count": 22,
      "metadata": {
        "id": "bI-ZNkaTpA2l"
      },
      "outputs": [
        {
          "name": "stdout",
          "output_type": "stream",
          "text": [
            "2\n"
          ]
        }
      ],
      "source": [
        "# Your solution here ###########################################################\n",
        "# compute the average degree of the citation graph\n",
        "q = int(np.round(k_cit / 2))\n",
        "print(q)\n",
        "#^^^^^^^^^^^^^^^^^^^^^^^^^^^^^^^^^^^^^^^^^^^^^^^^^^^^^^^^^^^^^^^^^^^^^^^^^^^^^^^\n",
        "G_ba = nx.barabasi_albert_graph(n, q)"
      ]
    },
    {
      "cell_type": "markdown",
      "metadata": {
        "id": "07jvDxU4pA2l"
      },
      "source": [
        "Check the number of edges in the Barabási–Albert graph."
      ]
    },
    {
      "cell_type": "code",
      "execution_count": 23,
      "metadata": {
        "id": "t5y-GHNRpA2l"
      },
      "outputs": [
        {
          "name": "stdout",
          "output_type": "stream",
          "text": [
            "My Barabási-Albert network that simulates the citation graph has 832 edges.\n"
          ]
        }
      ],
      "source": [
        "print('My Barabási-Albert network that simulates the citation graph has {} edges.'.format(G_ba.size()))"
      ]
    },
    {
      "cell_type": "markdown",
      "metadata": {
        "id": "_i5LymqiUc8x"
      },
      "source": [
        "**8.2 [2pt]** Plot the degree distribution histograms for the simulated networks (ER, BA, Configuration, WS)."
      ]
    },
    {
      "cell_type": "code",
      "execution_count": 24,
      "metadata": {
        "id": "-mrO0_zFUc8x"
      },
      "outputs": [
        {
          "data": {
            "image/png": "[encoded data removed]",
            "text/plain": [
              "<Figure size 1080x432 with 4 Axes>"
            ]
          },
          "metadata": {
            "needs_background": "light"
          },
          "output_type": "display_data"
        }
      ],
      "source": [
        "# Your solution here ###########################################################\n",
        "er_degrees = [nx.degree(G_er, node) for node in G_er.nodes()]\n",
        "ba_degrees = [nx.degree(G_ba, node) for node in G_ba.nodes()]\n",
        "config_degrees = [nx.degree(G_config, node) for node in G_config.nodes()]\n",
        "ws_degrees = [nx.degree(G_ws, node) for node in G_ws.nodes()]\n",
        "#^^^^^^^^^^^^^^^^^^^^^^^^^^^^^^^^^^^^^^^^^^^^^^^^^^^^^^^^^^^^^^^^^^^^^^^^^^^^^^^\n",
        "\n",
        "fig, axes = plt.subplots(2, 2, figsize=(15, 6))\n",
        "\n",
        "bins = np.arange(20)\n",
        "axes[0,0].set_title('Erdos-Rényi network')\n",
        "axes[0,0].hist(er_degrees, bins=bins)\n",
        "axes[0,1].set_title('Barabási-Albert network')\n",
        "axes[0,1].hist(ba_degrees, bins=bins)\n",
        "axes[1,0].set_title('Configuration model')\n",
        "axes[1,0].hist(config_degrees, bins=bins)\n",
        "axes[1,1].set_title('Watts-Strogatz model')\n",
        "axes[1,1].hist(ws_degrees, bins=bins)\n",
        "plt.show()"
      ]
    },
    {
      "cell_type": "markdown",
      "metadata": {
        "id": "GaSpQ7znUzOR"
      },
      "source": [
        "**8.3 [2pt]** Explain, in terms of the degree distribution, whether there is a good match between the citation and feature graphs and the simulated networks.\n",
        "For the citation graph, choose one of the simulated networks above that match its degree distribution best and indicate your preference below."
      ]
    },
    {
      "attachments": {},
      "cell_type": "markdown",
      "metadata": {
        "id": "56jSKLhYUzOR"
      },
      "source": [
        "**Your answer here:**\n",
        "\n",
        "The degree distributions of the networks can be characterized as follows:\n",
        "\n",
        "Erdős-Rényi (ER) network: Normal (Poissonian) degree distribution\n",
        "Barabási-Albert (BA) network: Power-law degree distribution (starting from 4, not from 0)\n",
        "Configuration model: Power-law degree distribution\n",
        "Watts-Strogatz (WS) model: Normal degree distribution with small standard deviation\n",
        "Both the feature graph and the citation graph exhibit a power-law degree distribution. Based on the degree distributions, the BA network and the configuration model are more suitable matches for the citation and feature graphs than the ER and WS networks.\n",
        "\n",
        "Out of the two power-law degree distribution networks (BA and configuration model), the configuration model provides a closer match to the real-world networks because it can replicate the exact degree distribution of the original networks. On the other hand, the BA network only approximates the power-law distribution with a preferential attachment parameter.\n",
        "\n",
        "Therefore, the configuration model is the preferred choice for matching the degree distribution of the graphs."
      ]
    },
    {
      "cell_type": "markdown",
      "metadata": {
        "id": "-kLiLm9kpA2o"
      },
      "source": [
        "Now, let us check the average clustering coefficient for the simulated networks."
      ]
    },
    {
      "cell_type": "code",
      "execution_count": 25,
      "metadata": {
        "id": "a3eyBdOzpA2o"
      },
      "outputs": [
        {
          "name": "stdout",
          "output_type": "stream",
          "text": [
            "Erdos-Renyi clustering coefficient: 0.02013371202084963\n",
            "Barabasi-Albert clustering coefficient: 0.038604820746797934\n",
            "Configuration model clustering coefficient: 0.1057378110403241\n",
            "Watts-Strogatz model clustering coefficient: 0.3102301207564363\n"
          ]
        }
      ],
      "source": [
        "print(\"Erdos-Renyi clustering coefficient:\", nx.average_clustering(G_er))\n",
        "print(\"Barabasi-Albert clustering coefficient:\", nx.average_clustering(G_ba))\n",
        "print(\"Configuration model clustering coefficient:\", nx.average_clustering(nx.Graph(G_config)))\n",
        "print(\"Watts-Strogatz model clustering coefficient:\", nx.average_clustering(G_ws))"
      ]
    },
    {
      "cell_type": "code",
      "execution_count": 26,
      "metadata": {},
      "outputs": [
        {
          "name": "stdout",
          "output_type": "stream",
          "text": [
            "citation graph clustering coefficient: 0.31318396750074196\n",
            "feature graph clustering coefficient: 0.17909022944594014\n"
          ]
        }
      ],
      "source": [
        "print (\"citation graph clustering coefficient:\", CC_cit)\n",
        "print (\"feature graph clustering coefficient:\", CC_feat)"
      ]
    },
    {
      "cell_type": "markdown",
      "metadata": {
        "id": "m3tQ2KllpA2o"
      },
      "source": [
        "**8.4 [2pt]** Comment on the values you obtain for the simulated networks. Motivate if there is any good match to the citation or feature graph in terms of clustering coefficient."
      ]
    },
    {
      "attachments": {},
      "cell_type": "markdown",
      "metadata": {
        "id": "usIF1fXopA2o"
      },
      "source": [
        "**Your answer here:**\n",
        "\n",
        "Upon comparing the clustering coefficients of the simulated networks with those of the citation and feature graphs, we note that the Watts-Strogatz (WS) model is the only one that has a clustering coefficient that is very close to the citation graph's, indicating that it might be a good match for clustering coefficient. However, it is important to note that the WS model has a normal degree distribution, which is not a good fit for the power-law degree distribution observed in the citation and feature graphs."
      ]
    },
    {
      "cell_type": "markdown",
      "metadata": {
        "id": "cak9n_eD4pSn"
      },
      "source": [
        "### Question 9 [13pt]: Network generating process\n",
        "\n",
        "In this question we will design a network formation model for the directed citation graph, considering it as a growth process."
      ]
    },
    {
      "cell_type": "markdown",
      "metadata": {
        "id": "DMFFZBDMjXjx"
      },
      "source": [
        "**9.1 [3pt]** Supposing that authors know all papers in their field at any time, how can we model their choice to cite each of them?"
      ]
    },
    {
      "attachments": {},
      "cell_type": "markdown",
      "metadata": {
        "id": "hVIir53Abcif"
      },
      "source": [
        "**Your answer here:**\n",
        "\n",
        "We can use the Preferential Attachment mechanism to model the authors' choice to cite papers in their field. This mechanism assumes that authors are more likely to cite papers that are already highly cited because these papers are considered more influential or represent significant advancements in the field. Accordingly, the probability of citing a paper is proportional to its in-degree, which refers to the number of citations it has already received.\n",
        "\n",
        "To generate a new paper node in the network, we can assign its outgoing edges (i.e., citations) to existing paper nodes with a probability proportional to their current in-degree. We can as well introduce some randomness to our network generation to model the noise in real world networks. This process is  a common mechanism used to model the growth of networks with power-law degree distributions.\n"
      ]
    },
    {
      "cell_type": "markdown",
      "metadata": {
        "id": "3fGZNX85jKtq"
      },
      "source": [
        "**9.2 [5pt]** Define a function that takes as input the number of nodes $n$ and any other parameter you identified. This function iteratively grows a graph on $n$ nodes based on the formation model that you described in 9.1. You can add all additional arguments that you need."
      ]
    },
    {
      "cell_type": "code",
      "execution_count": 27,
      "metadata": {},
      "outputs": [
        {
          "name": "stdout",
          "output_type": "stream",
          "text": [
            "The average degree of the citation graph is 4.0.\n"
          ]
        }
      ],
      "source": [
        "# print the average degree of the citation graph\n",
        "print('The average degree of the citation graph is {}.'.format(k_cit))"
      ]
    },
    {
      "cell_type": "code",
      "execution_count": 138,
      "metadata": {
        "id": "yNC2_MEnobSA"
      },
      "outputs": [],
      "source": [
        "# Your solution here ###########################################################\n",
        "def my_formation_model(n_nodes: int, m: int, p: float):\n",
        "    # Initialize the graph with two connected nodes\n",
        "    G = nx.DiGraph()\n",
        "    G.add_edge(0, 1)\n",
        "\n",
        "    for i in range(2, n_nodes):\n",
        "        # Calculate the total in-degree in the network\n",
        "        total_in_degree = sum(dict(G.in_degree()).values())\n",
        "\n",
        "        # Calculate the probability for each existing node to be cited\n",
        "        preferential_probs = np.array([d / total_in_degree for _, d in G.in_degree()])\n",
        "\n",
        "        # Introduce randomness in the citation process\n",
        "        random_probs = np.random.uniform(0, 1, size=preferential_probs.shape)\n",
        "\n",
        "        # Combine preferential attachment and random citation probabilities\n",
        "        citation_probs = (1 - p) * preferential_probs + p * random_probs\n",
        "\n",
        "        # citation probs should sum to 1\n",
        "        citation_probs /= citation_probs.sum()\n",
        "\n",
        "        # Select m nodes to cite based on the combined probabilities\n",
        "        # the size of the cited nodes should be either m or lower than m with a probability of p\n",
        "        size = m if np.random.uniform(0, 1) < p else np.random.randint(1, m + 1)\n",
        "        cited_nodes = np.random.choice(np.arange(i), size=size, replace=False, p=citation_probs[:i])\n",
        "\n",
        "        # Add the new node and connect it to the selected nodes, skip assignning citations with a probability of p / 2\n",
        "        if np.random.uniform(0, 1) < (p / 2):\n",
        "            G.add_node(i)\n",
        "        else:\n",
        "            for cited_node in cited_nodes:\n",
        "                G.add_edge(i, cited_node)\n",
        "\n",
        "    return nx.adjacency_matrix(G).toarray()\n",
        "\n",
        "\n",
        "A_mymodel = my_formation_model(A_citation.shape[0], q, 0.2)\n",
        "\n",
        "#^^^^^^^^^^^^^^^^^^^^^^^^^^^^^^^^^^^^^^^^^^^^^^^^^^^^^^^^^^^^^^^^^^^^^^^^^^^^^^^\n"
      ]
    },
    {
      "cell_type": "markdown",
      "metadata": {
        "id": "elGVygOZug-0"
      },
      "source": [
        "**9.3 [1pt]** Check wether your graph is directed. If it is, make it undirected."
      ]
    },
    {
      "cell_type": "code",
      "execution_count": 139,
      "metadata": {
        "id": "gLVcf9PfuwkU"
      },
      "outputs": [
        {
          "name": "stdout",
          "output_type": "stream",
          "text": [
            "Is the graph directed? False\n"
          ]
        }
      ],
      "source": [
        "# Your solution here ###########################################################\n",
        "# check wether the graph is directed\n",
        "print('Is the graph directed?', nx.is_directed(nx.from_numpy_array(A_mymodel)))\n",
        "\n",
        "#^^^^^^^^^^^^^^^^^^^^^^^^^^^^^^^^^^^^^^^^^^^^^^^^^^^^^^^^^^^^^^^^^^^^^^^^^^^^^^^"
      ]
    },
    {
      "cell_type": "markdown",
      "metadata": {
        "id": "xoiPypnWeTjb"
      },
      "source": [
        "**9.4 [2pt]** Compare the degree distributions of the citation graph and yours, then tune the paramters of your model to have a similar distribution."
      ]
    },
    {
      "cell_type": "code",
      "execution_count": 140,
      "metadata": {
        "id": "7O_FsodYe5eP"
      },
      "outputs": [
        {
          "data": {
            "image/png": "[encoded data removed]",
            "text/plain": [
              "<Figure size 1080x288 with 2 Axes>"
            ]
          },
          "metadata": {
            "needs_background": "light"
          },
          "output_type": "display_data"
        }
      ],
      "source": [
        "# Your solution here ###########################################################\n",
        "degrees_citation = [nx.degree(G_citation, node) for node in G_citation.nodes()]\n",
        "degrees_mymodel = [nx.degree(nx.from_numpy_array(A_mymodel), node) for node in nx.from_numpy_array(A_mymodel).nodes()]\n",
        "#^^^^^^^^^^^^^^^^^^^^^^^^^^^^^^^^^^^^^^^^^^^^^^^^^^^^^^^^^^^^^^^^^^^^^^^^^^^^^^^\n",
        "\n",
        "fig, ax = plt.subplots(1, 2, figsize=(15, 4))\n",
        "\n",
        "ax[0].set(title=\"Out-degree citation\")\n",
        "ax[0].hist(degrees_citation, bins=np.arange(15))\n",
        "\n",
        "ax[1].set(title=\"Out-degree my_model\")\n",
        "ax[1].hist(degrees_mymodel, bins=np.arange(15))\n",
        "\n",
        "plt.show()"
      ]
    },
    {
      "cell_type": "markdown",
      "metadata": {
        "id": "DGWM1sEGx3Sg"
      },
      "source": [
        "**9.5 [2pt]** Compute and print the following metrics:\n",
        "- Number of edges\n",
        "- Giant component size and number of edges\n",
        "- Clustering coefficient"
      ]
    },
    {
      "cell_type": "code",
      "execution_count": 141,
      "metadata": {
        "id": "1fBAnAybx2q2"
      },
      "outputs": [
        {
          "name": "stdout",
          "output_type": "stream",
          "text": [
            "The number of edges in my model graph is 302.5.\n",
            "The giant component size is 398.\n",
            "The number of edges in the giant component is 602.\n",
            "The clustering coefficient of my model graph is 0.003966780162952412.\n"
          ]
        }
      ],
      "source": [
        "# Your solution here ###########################################################\n",
        "# number of egdes in my model graph\n",
        "print('The number of edges in my model graph is {}.'.format(A_mymodel.sum() / 2))\n",
        "# giant component size and nubmer of edges in giant component\n",
        "print('The giant component size is {}.'.format(max([len(c) for c in sorted(nx.connected_components(nx.from_numpy_array(A_mymodel)), key=len, reverse=True)])))\n",
        "print('The number of edges in the giant component is {}.'.format(nx.number_of_edges(nx.from_numpy_array(A_mymodel).subgraph(max(nx.connected_components(nx.from_numpy_array(A_mymodel)), key=len)))))\n",
        "# clustering coefficient of my model graph\n",
        "print('The clustering coefficient of my model graph is {}.'.format(nx.average_clustering(nx.from_numpy_array(A_mymodel))))\n",
        "\n",
        "#^^^^^^^^^^^^^^^^^^^^^^^^^^^^^^^^^^^^^^^^^^^^^^^^^^^^^^^^^^^^^^^^^^^^^^^^^^^^^^^\n"
      ]
    },
    {
      "cell_type": "markdown",
      "metadata": {
        "id": "TE6ARs-tauPh"
      },
      "source": [
        "### Question 10 [4pt]: Putting it all together\n",
        "\n",
        "It is time to identify the best models for our graphs."
      ]
    },
    {
      "cell_type": "markdown",
      "metadata": {
        "id": "w2LcelhLyFwg"
      },
      "source": [
        "**10.1 [4pt]** Compare the metrics computed across all models and discuss which models provide the best fit to our two graphs and which are their shortcomings. Note that the best model could be different for the citation and feture graphs."
      ]
    },
    {
      "cell_type": "markdown",
      "metadata": {
        "id": "f6cNHNr7zRNA"
      },
      "source": [
        "**Your answer here:**"
      ]
    }
  ],
  "metadata": {
    "colab": {
      "provenance": [],
      "toc_visible": true
    },
    "kernelspec": {
      "display_name": "playground",
      "language": "python",
      "name": "python3"
    },
    "language_info": {
      "codemirror_mode": {
        "name": "ipython",
        "version": 3
      },
      "file_extension": ".py",
      "mimetype": "text/x-python",
      "name": "python",
      "nbconvert_exporter": "python",
      "pygments_lexer": "ipython3",
      "version": "3.9.5"
    },
    "vscode": {
      "interpreter": {
        "hash": "1b6258ac5f9ce9aee8bc7e8f09e746bac739d42425ff8343fe5df569d2e6cb19"
      }
    }
  },
  "nbformat": 4,
  "nbformat_minor": 0
}
