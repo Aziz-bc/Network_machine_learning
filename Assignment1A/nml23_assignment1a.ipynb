{
  "cells": [
    {
      "cell_type": "markdown",
      "metadata": {
        "id": "8S5mo9I3pA2Q"
      },
      "source": [
        "# [NML23] Assignment 1: Graph theory basics\n",
        "\n",
        "TAs: [Ortal Senouf](https://people.epfl.ch/ortal.senouf) and [William Cappelletti](https://people.epfl.ch/william.cappelletti)"
      ]
    },
    {
      "attachments": {},
      "cell_type": "markdown",
      "metadata": {
        "id": "5fKV_i9ZpA2U"
      },
      "source": [
        "## Students\n",
        "\n",
        "* Team: `<3>`\n",
        "* Students: `<Ahmed Nour Achiche>`, `<Mohamed Aziz Ben Chaabene>`"
      ]
    },
    {
      "cell_type": "markdown",
      "metadata": {
        "id": "FR-x5fizpA2U"
      },
      "source": [
        "## Rules\n",
        "\n",
        "> ⚠️ **Read carefully before starting**\n",
        "\n",
        "**Deadline:** March 28th\n",
        "\n",
        "**Grading:**\n",
        "* The integrality of Assignment 1 will be scaled to 100% and will amount to 25% of the overall assignments score.\n",
        "* The total number of points for part A is **50**, the points for each exercise are stated in the instructions.\n",
        "* All team members will receive the same grade based on the team solution.\n",
        "* Collaboration between team members is encouraged. No collaboration between teams is allowed.\n",
        "\n",
        "**Expected output:**\n",
        "\n",
        "You will have coding and theoretical questions.\n",
        "\n",
        "Coding exercises shall be solved within the specified space:\n",
        "```python\n",
        "# Your solution here ###########################################################\n",
        "...\n",
        "#^^^^^^^^^^^^^^^^^^^^^^^^^^^^^^^^^^^^^^^^^^^^^^^^^^^^^^^^^^^^^^^^^^^^^^^^^^^^^^^\n",
        "```\n",
        "You can create any additional variables or functions that you think necessary, but if a variable is explicitly stated, you shall use it for the corresponding values, as it will be re-used afterwards. Anything outside shall not be touched, except if otherwise stated. Failing to comply to instructions will be penalized.\n",
        "\n",
        "Theoretical questions shall be answered in the following markdown cell. The first line will be \n",
        "> **Your answer here:**\n",
        "\n",
        "**Submission:**\n",
        "* Your submission is self-contained in the `.ipynb` file.\n",
        "\n",
        "* Code has to be clean and readable. Provide meaningful variable names and comment where needed.\n",
        "\n",
        "* Textual answers in [markdown cells][md_cells] shall be short: one to two\n",
        "  sentences. Math shall be written in [LaTeX][md_latex].\n",
        "    **NOTE**: handwritten notes pasted in the notebook are ignored\n",
        "\n",
        "* You cannot import any other library than we imported.\n",
        "  Note that Networkx is imported in the second section and cannot be used in the first except for the Question 4 of Section 1 (at the indicated portion only).\n",
        "\n",
        "* Make sure all cells are executed before submitting. I.e., if you open the notebook again it should show numerical results and plots. Cells not run are ignored.\n",
        "\n",
        "* Execute your notebook on **google colab** from a blank state before submission, to make sure it is reproducible. You can click \"Kernel\" then \"Restart Kernel and Run All Cells\" in Jupyter. We might re-run cells to ensure that the code is working and corresponds to the results.\n",
        "\n",
        "[md_cells]: https://jupyter-notebook.readthedocs.io/en/stable/examples/Notebook/Working%20With%20Markdown%20Cells.html\n",
        "[md_latex]: https://jupyter-notebook.readthedocs.io/en/stable/examples/Notebook/Working%20With%20Markdown%20Cells.html#LaTeX-equations"
      ]
    },
    {
      "cell_type": "markdown",
      "metadata": {
        "id": "cmp4-YzspA2V"
      },
      "source": [
        "## Objective\n",
        "\n",
        "The purpose of this assignment is to explore a given dataset, representing it as a network and constructing different graphs. In the first section, you will analyze the network properties. In the second section, you will explore various network models and find out the network model fitting the ones you construct from the dataset."
      ]
    },
    {
      "cell_type": "markdown",
      "metadata": {
        "id": "6UrAgd4QpA2W"
      },
      "source": [
        "## Cora Dataset\n",
        "\n",
        "The [Cora dataset](https://linqs.soe.ucsc.edu/node/236) consists of scientific publications classified into one of seven research fields. \n",
        "\n",
        "* **Citation graph:** the citation network can be constructed from the connections given in the `cora.cites` file.\n",
        "* **Feature graph:** each publication in the dataset is described by a 0/1-valued word vector indicating the absence/presence of the corresponding word from the dictionary and its research field, given in the `cora.content` file. The dictionary consists of 1433 unique words. A feature graph can be constructed using the Euclidean distance between the feature vector of the publications.\n",
        "\n",
        "The [`README`](data/cora/README) provides details about the content of [`cora.cites`](data/cora/cora.cites) and [`cora.content`](data/cora/cora.content).\n",
        "\n",
        "Let us first download the cora dataset, it will be saved in the current working directory in the (new) `cora` folder"
      ]
    },
    {
      "cell_type": "code",
      "execution_count": 1,
      "metadata": {
        "id": "cve__kFpKJPB"
      },
      "outputs": [
        {
          "data": {
            "text/plain": [
              "\"!pip install networkx==3.0 -q\\n\\n_files = !ls cora\\nif _files != ['README', 'cora.cites', 'cora.content']:\\n    !wget https://linqs-data.soe.ucsc.edu/public/lbc/cora.tgz\\n    !tar -xvf cora.tgz\""
            ]
          },
          "execution_count": 1,
          "metadata": {},
          "output_type": "execute_result"
        }
      ],
      "source": [
        "'''!pip install networkx==3.0 -q\n",
        "\n",
        "_files = !ls cora\n",
        "if _files != ['README', 'cora.cites', 'cora.content']:\n",
        "    !wget https://linqs-data.soe.ucsc.edu/public/lbc/cora.tgz\n",
        "    !tar -xvf cora.tgz'''"
      ]
    },
    {
      "cell_type": "markdown",
      "metadata": {
        "id": "p-klVToLpA2W"
      },
      "source": [
        "## Part A: Network Properties"
      ]
    },
    {
      "cell_type": "code",
      "execution_count": 2,
      "metadata": {
        "id": "D36pWRXdpA2X"
      },
      "outputs": [],
      "source": [
        "import numpy as np\n",
        "import pandas as pd\n",
        "from matplotlib import pyplot as plt\n",
        "\n",
        "%matplotlib inline"
      ]
    },
    {
      "cell_type": "markdown",
      "metadata": {
        "id": "Bi0LL266pA2Y"
      },
      "source": [
        "### Question 1 [16pt]: Construct a Citation Graph and a Feature Graph "
      ]
    },
    {
      "cell_type": "markdown",
      "metadata": {
        "id": "4EP7SoAwITHs"
      },
      "source": [
        "#### Part 1.1: Data loading and exploration\n"
      ]
    },
    {
      "cell_type": "markdown",
      "metadata": {
        "id": "jS75sxnOJgoO"
      },
      "source": [
        "**1.1.1 [2pt]** Read the `cora.content` file into a Pandas DataFrame, indexed by the papers ID. Check the `README` file to identify the column names and\n",
        "the data format. Then, print 5 random rows and print out the number of papers\n",
        "contained in each of the reasearch fields.\n",
        "\n",
        "*Hints:*\n",
        "- Use the `read_csv` function to load data;\n",
        "- Sort papers by id;\n",
        "- Pandas DataFrames have a `value_counts()` method."
      ]
    },
    {
      "cell_type": "code",
      "execution_count": 3,
      "metadata": {
        "id": "iKhgUHzqpA2a"
      },
      "outputs": [
        {
          "name": "stdout",
          "output_type": "stream",
          "text": [
            "Neural_Networks           818\n",
            "Probabilistic_Methods     426\n",
            "Genetic_Algorithms        418\n",
            "Theory                    351\n",
            "Case_Based                298\n",
            "Reinforcement_Learning    217\n",
            "Rule_Learning             180\n",
            "Name: class_label, dtype: int64\n"
          ]
        },
        {
          "data": {
            "text/html": [
              "<div>\n",
              "<style scoped>\n",
              "    .dataframe tbody tr th:only-of-type {\n",
              "        vertical-align: middle;\n",
              "    }\n",
              "\n",
              "    .dataframe tbody tr th {\n",
              "        vertical-align: top;\n",
              "    }\n",
              "\n",
              "    .dataframe thead th {\n",
              "        text-align: right;\n",
              "    }\n",
              "</style>\n",
              "<table border=\"1\" class=\"dataframe\">\n",
              "  <thead>\n",
              "    <tr style=\"text-align: right;\">\n",
              "      <th></th>\n",
              "      <th>w0</th>\n",
              "      <th>w1</th>\n",
              "      <th>w2</th>\n",
              "      <th>w3</th>\n",
              "      <th>w4</th>\n",
              "      <th>w5</th>\n",
              "      <th>w6</th>\n",
              "      <th>w7</th>\n",
              "      <th>w8</th>\n",
              "      <th>w9</th>\n",
              "      <th>...</th>\n",
              "      <th>w1424</th>\n",
              "      <th>w1425</th>\n",
              "      <th>w1426</th>\n",
              "      <th>w1427</th>\n",
              "      <th>w1428</th>\n",
              "      <th>w1429</th>\n",
              "      <th>w1430</th>\n",
              "      <th>w1431</th>\n",
              "      <th>w1432</th>\n",
              "      <th>class_label</th>\n",
              "    </tr>\n",
              "    <tr>\n",
              "      <th>paper_id</th>\n",
              "      <th></th>\n",
              "      <th></th>\n",
              "      <th></th>\n",
              "      <th></th>\n",
              "      <th></th>\n",
              "      <th></th>\n",
              "      <th></th>\n",
              "      <th></th>\n",
              "      <th></th>\n",
              "      <th></th>\n",
              "      <th></th>\n",
              "      <th></th>\n",
              "      <th></th>\n",
              "      <th></th>\n",
              "      <th></th>\n",
              "      <th></th>\n",
              "      <th></th>\n",
              "      <th></th>\n",
              "      <th></th>\n",
              "      <th></th>\n",
              "      <th></th>\n",
              "    </tr>\n",
              "  </thead>\n",
              "  <tbody>\n",
              "    <tr>\n",
              "      <th>31336</th>\n",
              "      <td>0</td>\n",
              "      <td>0</td>\n",
              "      <td>0</td>\n",
              "      <td>0</td>\n",
              "      <td>0</td>\n",
              "      <td>0</td>\n",
              "      <td>0</td>\n",
              "      <td>0</td>\n",
              "      <td>0</td>\n",
              "      <td>0</td>\n",
              "      <td>...</td>\n",
              "      <td>0</td>\n",
              "      <td>0</td>\n",
              "      <td>1</td>\n",
              "      <td>0</td>\n",
              "      <td>0</td>\n",
              "      <td>0</td>\n",
              "      <td>0</td>\n",
              "      <td>0</td>\n",
              "      <td>0</td>\n",
              "      <td>Neural_Networks</td>\n",
              "    </tr>\n",
              "    <tr>\n",
              "      <th>1061127</th>\n",
              "      <td>0</td>\n",
              "      <td>0</td>\n",
              "      <td>0</td>\n",
              "      <td>0</td>\n",
              "      <td>0</td>\n",
              "      <td>0</td>\n",
              "      <td>0</td>\n",
              "      <td>0</td>\n",
              "      <td>0</td>\n",
              "      <td>0</td>\n",
              "      <td>...</td>\n",
              "      <td>0</td>\n",
              "      <td>1</td>\n",
              "      <td>0</td>\n",
              "      <td>0</td>\n",
              "      <td>0</td>\n",
              "      <td>0</td>\n",
              "      <td>0</td>\n",
              "      <td>0</td>\n",
              "      <td>0</td>\n",
              "      <td>Rule_Learning</td>\n",
              "    </tr>\n",
              "    <tr>\n",
              "      <th>1106406</th>\n",
              "      <td>0</td>\n",
              "      <td>0</td>\n",
              "      <td>0</td>\n",
              "      <td>0</td>\n",
              "      <td>0</td>\n",
              "      <td>0</td>\n",
              "      <td>0</td>\n",
              "      <td>0</td>\n",
              "      <td>0</td>\n",
              "      <td>0</td>\n",
              "      <td>...</td>\n",
              "      <td>0</td>\n",
              "      <td>0</td>\n",
              "      <td>0</td>\n",
              "      <td>0</td>\n",
              "      <td>0</td>\n",
              "      <td>0</td>\n",
              "      <td>0</td>\n",
              "      <td>0</td>\n",
              "      <td>0</td>\n",
              "      <td>Reinforcement_Learning</td>\n",
              "    </tr>\n",
              "    <tr>\n",
              "      <th>13195</th>\n",
              "      <td>0</td>\n",
              "      <td>0</td>\n",
              "      <td>0</td>\n",
              "      <td>0</td>\n",
              "      <td>0</td>\n",
              "      <td>0</td>\n",
              "      <td>0</td>\n",
              "      <td>0</td>\n",
              "      <td>0</td>\n",
              "      <td>0</td>\n",
              "      <td>...</td>\n",
              "      <td>0</td>\n",
              "      <td>0</td>\n",
              "      <td>0</td>\n",
              "      <td>0</td>\n",
              "      <td>0</td>\n",
              "      <td>0</td>\n",
              "      <td>0</td>\n",
              "      <td>0</td>\n",
              "      <td>0</td>\n",
              "      <td>Reinforcement_Learning</td>\n",
              "    </tr>\n",
              "    <tr>\n",
              "      <th>37879</th>\n",
              "      <td>0</td>\n",
              "      <td>0</td>\n",
              "      <td>0</td>\n",
              "      <td>0</td>\n",
              "      <td>0</td>\n",
              "      <td>0</td>\n",
              "      <td>0</td>\n",
              "      <td>0</td>\n",
              "      <td>0</td>\n",
              "      <td>0</td>\n",
              "      <td>...</td>\n",
              "      <td>0</td>\n",
              "      <td>0</td>\n",
              "      <td>0</td>\n",
              "      <td>0</td>\n",
              "      <td>0</td>\n",
              "      <td>0</td>\n",
              "      <td>0</td>\n",
              "      <td>0</td>\n",
              "      <td>0</td>\n",
              "      <td>Probabilistic_Methods</td>\n",
              "    </tr>\n",
              "  </tbody>\n",
              "</table>\n",
              "<p>5 rows × 1434 columns</p>\n",
              "</div>"
            ],
            "text/plain": [
              "          w0  w1  w2  w3  w4  w5  w6  w7  w8  w9  ...  w1424  w1425  w1426  \\\n",
              "paper_id                                          ...                        \n",
              "31336      0   0   0   0   0   0   0   0   0   0  ...      0      0      1   \n",
              "1061127    0   0   0   0   0   0   0   0   0   0  ...      0      1      0   \n",
              "1106406    0   0   0   0   0   0   0   0   0   0  ...      0      0      0   \n",
              "13195      0   0   0   0   0   0   0   0   0   0  ...      0      0      0   \n",
              "37879      0   0   0   0   0   0   0   0   0   0  ...      0      0      0   \n",
              "\n",
              "          w1427  w1428  w1429  w1430  w1431  w1432             class_label  \n",
              "paper_id                                                                    \n",
              "31336         0      0      0      0      0      0         Neural_Networks  \n",
              "1061127       0      0      0      0      0      0           Rule_Learning  \n",
              "1106406       0      0      0      0      0      0  Reinforcement_Learning  \n",
              "13195         0      0      0      0      0      0  Reinforcement_Learning  \n",
              "37879         0      0      0      0      0      0   Probabilistic_Methods  \n",
              "\n",
              "[5 rows x 1434 columns]"
            ]
          },
          "execution_count": 3,
          "metadata": {},
          "output_type": "execute_result"
        }
      ],
      "source": [
        "# Your solution here ###########################################################\n",
        "# Load the data\n",
        "df_content = pd.read_csv('cora/cora.content', sep='\\t', header=None, index_col=0)\n",
        "# name thecolumns\n",
        "df_content.index.name = 'paper_id'\n",
        "df_content.columns = ['w{}'.format(i) for i in range(1433)] + ['class_label']\n",
        "print(df_content['class_label'].value_counts())\n",
        "df_content.head()\n",
        "#^^^^^^^^^^^^^^^^^^^^^^^^^^^^^^^^^^^^^^^^^^^^^^^^^^^^^^^^^^^^^^^^^^^^^^^^^^^^^^^\n"
      ]
    },
    {
      "attachments": {},
      "cell_type": "markdown",
      "metadata": {
        "id": "ccwo_y06pA2b"
      },
      "source": [
        "**1.1.2 [1pt]** Select all papers from the field `Genetic_Algorithms` and store their feature vectors into a NumPy array.\n",
        "Check its shape."
      ]
    },
    {
      "cell_type": "code",
      "execution_count": 4,
      "metadata": {},
      "outputs": [
        {
          "name": "stdout",
          "output_type": "stream",
          "text": [
            "418 nodes with 1433 features\n"
          ]
        }
      ],
      "source": [
        "my_field = 'Genetic_Algorithms'\n",
        "# Your solution here ###########################################################\n",
        "# Select the feature vectors from the dataframe\n",
        "df_genetic = df_content[df_content['class_label'] == my_field]\n",
        "features = df_genetic.iloc[:, :-1].values\n",
        "#^^^^^^^^^^^^^^^^^^^^^^^^^^^^^^^^^^^^^^^^^^^^^^^^^^^^^^^^^^^^^^^^^^^^^^^^^^^^^^^\n",
        "\n",
        "print(\"{} nodes with {} features\".format(*features.shape))"
      ]
    },
    {
      "cell_type": "markdown",
      "metadata": {
        "id": "vbl8pl59pA2b"
      },
      "source": [
        "**1.1.3 [2pt]** Let $D$ be the Euclidean distance matrix whose $(i,j)$ entry corresponds to the Euclidean distance between feature vectors $i$ and $j$.\n",
        "Using the feature vectors of the papers from the field which you have selected, construct $D$ as a Numpy array.\n",
        "\n",
        "*Bonus 1pt* if you can do it without for loops"
      ]
    },
    {
      "cell_type": "code",
      "execution_count": 5,
      "metadata": {
        "id": "kOCfPA5fpA2c"
      },
      "outputs": [
        {
          "data": {
            "text/plain": [
              "array([[0.        , 5.83095189, 4.89897949, ..., 6.40312424, 6.        ,\n",
              "        5.74456265],\n",
              "       [5.83095189, 0.        , 4.47213595, ..., 6.40312424, 6.        ,\n",
              "        5.74456265],\n",
              "       [4.89897949, 4.47213595, 0.        , ..., 5.38516481, 5.09901951,\n",
              "        4.79583152],\n",
              "       ...,\n",
              "       [6.40312424, 6.40312424, 5.38516481, ..., 0.        , 6.70820393,\n",
              "        6.32455532],\n",
              "       [6.        , 6.        , 5.09901951, ..., 6.70820393, 0.        ,\n",
              "        5.91607978],\n",
              "       [5.74456265, 5.74456265, 4.79583152, ..., 6.32455532, 5.91607978,\n",
              "        0.        ]])"
            ]
          },
          "execution_count": 5,
          "metadata": {},
          "output_type": "execute_result"
        }
      ],
      "source": [
        "# Your solution here ###########################################################\n",
        "# Compute the euclidian distance between all pairs of nodes\n",
        "diff = features[:, np.newaxis, :] - features[np.newaxis, :, :]\n",
        "euclidian_distance = np.sqrt(np.sum(diff ** 2, axis=-1))\n",
        "euclidian_distance\n",
        "#^^^^^^^^^^^^^^^^^^^^^^^^^^^^^^^^^^^^^^^^^^^^^^^^^^^^^^^^^^^^^^^^^^^^^^^^^^^^^^^"
      ]
    },
    {
      "cell_type": "markdown",
      "metadata": {
        "id": "pnXOCKyfpA2c"
      },
      "source": [
        "**1.1.4 [1pt]** Compute and print the mean pairwise distance $\\mathbb{E}[D]$."
      ]
    },
    {
      "cell_type": "code",
      "execution_count": 6,
      "metadata": {
        "id": "tOT3aX0apA2c"
      },
      "outputs": [
        {
          "name": "stdout",
          "output_type": "stream",
          "text": [
            "5.60816976752409\n"
          ]
        }
      ],
      "source": [
        "# Your solution here ###########################################################\n",
        "mean_distance = np.mean(euclidian_distance)\n",
        "print(mean_distance)\n",
        "#^^^^^^^^^^^^^^^^^^^^^^^^^^^^^^^^^^^^^^^^^^^^^^^^^^^^^^^^^^^^^^^^^^^^^^^^^^^^^^^"
      ]
    },
    {
      "cell_type": "markdown",
      "metadata": {
        "id": "j64EM0FPpA2c"
      },
      "source": [
        "**1.1.5 [2pt]** Plot an histogram of the euclidean distances."
      ]
    },
    {
      "cell_type": "code",
      "execution_count": 7,
      "metadata": {
        "id": "smoYOJdlpA2c"
      },
      "outputs": [
        {
          "data": {
            "image/png": "[encoded data removed]",
            "text/plain": [
              "<Figure size 1440x720 with 1 Axes>"
            ]
          },
          "metadata": {
            "needs_background": "light"
          },
          "output_type": "display_data"
        }
      ],
      "source": [
        "# Your solution here ###########################################################\n",
        "plt.figure(figsize=(20, 10))\n",
        "plt.hist(euclidian_distance.flatten(), bins=100)\n",
        "plt.xlabel('Euclidian distance')\n",
        "plt.ylabel('Frequency')\n",
        "plt.show()\n",
        "#^^^^^^^^^^^^^^^^^^^^^^^^^^^^^^^^^^^^^^^^^^^^^^^^^^^^^^^^^^^^^^^^^^^^^^^^^^^^^^^"
      ]
    },
    {
      "cell_type": "markdown",
      "metadata": {
        "id": "CSJ72nWYpA2d"
      },
      "source": [
        "#### Part 1.2: Building graphs"
      ]
    },
    {
      "cell_type": "markdown",
      "metadata": {
        "id": "YvNsWOn6JgoU"
      },
      "source": [
        "**1.2.1 [2pt]** First, we will create an adjacency matrix for the papers by thresholding the Euclidean distance matrix.\n",
        "The resulting (unweighted) adjacency matrix should have entries\n",
        "$$ A_{ij} = \\begin{cases} 1, \\; \\text{if} \\; d(i,j)< \\mathbb{E}[D], \\; i \\neq j, \\\\ 0, \\; \\text{otherwise.} \\end{cases} $$\n",
        "\n",
        "Build such adjacency matrix using the average distance as threshold"
      ]
    },
    {
      "cell_type": "code",
      "execution_count": 8,
      "metadata": {
        "id": "d35fo9IlpA2d"
      },
      "outputs": [],
      "source": [
        "# Your solution here ###########################################################\n",
        "# apply the threshold\n",
        "A_feature = np.zeros_like(euclidian_distance)\n",
        "A_feature[euclidian_distance < mean_distance] = 1\n",
        "# i=j => 0\n",
        "np.fill_diagonal(A_feature, 0) \n",
        "# check if the thresholding is correct\n",
        "assert np.all(euclidian_distance[A_feature == 1] < mean_distance)\n",
        "#^^^^^^^^^^^^^^^^^^^^^^^^^^^^^^^^^^^^^^^^^^^^^^^^^^^^^^^^^^^^^^^^^^^^^^^^^^^^^^^"
      ]
    },
    {
      "cell_type": "markdown",
      "metadata": {
        "id": "MteCG9NOpA2d"
      },
      "source": [
        "**1.2.2 [3pt]** Now read the `cora.cites` file and construct the citation graph by converting the given citation connections into an adjacency matrix `A_citation`.\n",
        "\n",
        "*Hint:*\n",
        "- The edges are between `paper_id`s. Not all integers correspond to IDs;\n",
        "- Check the README for the connection description"
      ]
    },
    {
      "cell_type": "code",
      "execution_count": 9,
      "metadata": {},
      "outputs": [
        {
          "name": "stdout",
          "output_type": "stream",
          "text": [
            "Cites head:\n",
            "[[     35    1033]\n",
            " [     35  103482]\n",
            " [     35  103515]\n",
            " [     35 1050679]\n",
            " [     35 1103960]]\n",
            "\n",
            "Adj shape: (2708, 2708)\n"
          ]
        }
      ],
      "source": [
        "cora_cites = np.genfromtxt('cora/cora.cites', delimiter='\\t', dtype=int)\n",
        "# extract the two columns of cora_cites array\n",
        "citing_papers = cora_cites[:, 0]\n",
        "cited_papers = cora_cites[:, 1]\n",
        "# get graph edges and flatten them for processing\n",
        "print(\"Cites head:\")\n",
        "print(cora_cites[:5], end=\"\\n\\n\")\n",
        "\n",
        "# Your solution here ###########################################################\n",
        "# Get unique paper IDs\n",
        "paper_ids = np.unique(cora_cites)\n",
        "# Create adjacency matrix\n",
        "num_papers = len(paper_ids)\n",
        "A_citation = np.zeros((num_papers, num_papers))\n",
        "for i, j in cora_cites:\n",
        "    A_citation[np.where(paper_ids == i), np.where(paper_ids == j)] = 1\n",
        "#^^^^^^^^^^^^^^^^^^^^^^^^^^^^^^^^^^^^^^^^^^^^^^^^^^^^^^^^^^^^^^^^^^^^^^^^^^^^^^^\n",
        "print(\"Adj shape:\", A_citation.shape)"
      ]
    },
    {
      "cell_type": "markdown",
      "metadata": {
        "id": "Kf0vts9ZpA2e"
      },
      "source": [
        "**1.2.3 [2pt]** Get the adjacency matrix of the citation graph for the field that you chose.\n",
        "You have to appropriately reduce the adjacency matrix of the citation graph."
      ]
    },
    {
      "cell_type": "code",
      "execution_count": 10,
      "metadata": {
        "id": "tpxIKTiMpA2e"
      },
      "outputs": [
        {
          "name": "stdout",
          "output_type": "stream",
          "text": [
            "Adj shape: (418, 418)\n"
          ]
        }
      ],
      "source": [
        "# Your solution here ###########################################################\n",
        "# get index of genetic ids in the paper_ids\n",
        "genetic_ids = np.where(np.isin(paper_ids, df_genetic.index))[0]\n",
        "# get the submatrix of the adjacency matrix\n",
        "A_citation = A_citation[genetic_ids][:, genetic_ids]\n",
        "#^^^^^^^^^^^^^^^^^^^^^^^^^^^^^^^^^^^^^^^^^^^^^^^^^^^^^^^^^^^^^^^^^^^^^^^^^^^^^^^\n",
        "\n",
        "print(\"Adj shape:\", A_citation.shape)"
      ]
    },
    {
      "cell_type": "markdown",
      "metadata": {
        "id": "cbx0kjhNpA2e"
      },
      "source": [
        "**1.2.4 [1pt]** Test whether the citation graph is directed or undirected.\n",
        "\n",
        "*Hint:* You can check if the adjacency is symmetric."
      ]
    },
    {
      "cell_type": "code",
      "execution_count": 11,
      "metadata": {
        "id": "6aYGkLzFpA2e"
      },
      "outputs": [
        {
          "name": "stdout",
          "output_type": "stream",
          "text": [
            "False\n"
          ]
        }
      ],
      "source": [
        "# Your solution here ###########################################################\n",
        "# check if the adjacency matrix is symmetric\n",
        "print(np.all(A_citation == A_citation.T))\n",
        "#^^^^^^^^^^^^^^^^^^^^^^^^^^^^^^^^^^^^^^^^^^^^^^^^^^^^^^^^^^^^^^^^^^^^^^^^^^^^^^^"
      ]
    },
    {
      "attachments": {},
      "cell_type": "markdown",
      "metadata": {},
      "source": [
        "The matrix is asymmetric therefore the graph is directed , which makes sense since a paper could cite another paper without being cited back"
      ]
    },
    {
      "cell_type": "markdown",
      "metadata": {
        "id": "OOw4gmxLpA2e"
      },
      "source": [
        "### Question 2 [18pt]: Degree Distribution and Moments"
      ]
    },
    {
      "cell_type": "markdown",
      "metadata": {
        "id": "SZ2b-5LupA2e"
      },
      "source": [
        "**2.1 [1pt]** Compute the total number of edges in each graph"
      ]
    },
    {
      "cell_type": "code",
      "execution_count": 12,
      "metadata": {
        "id": "IbrqF06lpA2e"
      },
      "outputs": [
        {
          "name": "stdout",
          "output_type": "stream",
          "text": [
            "Number of edges in the feature graph: 35340.0\n",
            "Number of edges in the citation graph: 848.0\n"
          ]
        }
      ],
      "source": [
        "# Your solution here ###########################################################\n",
        "num_edges_citation = np.sum(A_citation)\n",
        "num_edges_feature = np.sum(A_feature) / 2\n",
        "\n",
        "#^^^^^^^^^^^^^^^^^^^^^^^^^^^^^^^^^^^^^^^^^^^^^^^^^^^^^^^^^^^^^^^^^^^^^^^^^^^^^^^\n",
        "\n",
        "print(f\"Number of edges in the feature graph: {num_edges_feature}\")\n",
        "print(f\"Number of edges in the citation graph: {num_edges_citation}\")"
      ]
    },
    {
      "cell_type": "markdown",
      "metadata": {
        "id": "nhWDPS0fpA2f"
      },
      "source": [
        "**2.2 [2pt]** Plot both in-degree and out-degree distributions histogram for each of the graphs."
      ]
    },
    {
      "cell_type": "code",
      "execution_count": 13,
      "metadata": {
        "id": "VW9NV8D3pA2f"
      },
      "outputs": [
        {
          "data": {
            "image/png": "[encoded data removed]",
            "text/plain": [
              "<Figure size 1152x288 with 4 Axes>"
            ]
          },
          "metadata": {
            "needs_background": "light"
          },
          "output_type": "display_data"
        }
      ],
      "source": [
        "# Your solution here ###########################################################\n",
        "\n",
        "# In degrees\n",
        "degrees_feature_in= np.sum(A_feature, axis=0)\n",
        "degrees_citation_in= np.sum(A_citation, axis=0)\n",
        "\n",
        "\n",
        "# Out degrees\n",
        "degrees_feature_out= np.sum(A_feature, axis=1)\n",
        "degrees_citation_out = np.sum(A_citation, axis=1)\n",
        "\n",
        "#^^^^^^^^^^^^^^^^^^^^^^^^^^^^^^^^^^^^^^^^^^^^^^^^^^^^^^^^^^^^^^^^^^^^^^^^^^^^^^^\n",
        "\n",
        "deg_hist_normalization = np.ones(degrees_citation_in.shape[0]) / degrees_citation_in.shape[0]\n",
        "fig, axes = plt.subplots(1, 4, figsize=(16, 4))\n",
        "axes[0].set_title('Citation graph in-degree distribution')\n",
        "axes[0].hist(degrees_citation_in, weights=deg_hist_normalization);\n",
        "axes[1].set_title('Citation graph out-degree distribution')\n",
        "axes[1].hist(degrees_citation_out, weights=deg_hist_normalization);\n",
        "axes[2].set_title('Feature graph in-degree distribution')\n",
        "axes[2].hist(degrees_feature_in, weights=deg_hist_normalization);\n",
        "axes[3].set_title('Feature graph out-degree distribution')\n",
        "axes[3].hist(degrees_feature_out, weights=deg_hist_normalization);"
      ]
    },
    {
      "cell_type": "markdown",
      "metadata": {
        "id": "tg7ttVP8M6x7"
      },
      "source": [
        "**2.3 [2pt]** From here onwards, we will consider only undirected graphs. If any of the graph is directed, make it undirected. Then compute the degree distribution and compare with the above ones."
      ]
    },
    {
      "cell_type": "code",
      "execution_count": 14,
      "metadata": {
        "id": "oLiSTB6jM5tD"
      },
      "outputs": [
        {
          "data": {
            "image/png": "[encoded data removed]",
            "text/plain": [
              "<Figure size 1152x288 with 2 Axes>"
            ]
          },
          "metadata": {
            "needs_background": "light"
          },
          "output_type": "display_data"
        }
      ],
      "source": [
        "# Your solution here ###########################################################\n",
        "# Transform the adjacency matrix to undirected\n",
        "A_citation = A_citation + A_citation.T\n",
        "A_feature = A_feature + A_feature.T\n",
        "A_citation[A_citation > 1] = 1\n",
        "A_feature[A_feature > 1] = 1\n",
        "# Degree distribution\n",
        "degrees_citation = np.sum(A_citation, axis=1)\n",
        "degrees_feature = np.sum(A_feature, axis=1)\n",
        "\n",
        "\n",
        "\n",
        "fig, axes = plt.subplots(1, 2, figsize=(16, 4))\n",
        "axes[0].set_title('Citation graph degree distribution')\n",
        "axes[0].hist(degrees_citation, weights=deg_hist_normalization);\n",
        "axes[1].set_title('Feature graph degree distribution')\n",
        "axes[1].hist(degrees_feature, weights=deg_hist_normalization);\n",
        "#^^^^^^^^^^^^^^^^^^^^^^^^^^^^^^^^^^^^^^^^^^^^^^^^^^^^^^^^^^^^^^^^^^^^^^^^^^^^^^^"
      ]
    },
    {
      "cell_type": "markdown",
      "metadata": {
        "id": "frDhu4aQpA2f"
      },
      "source": [
        "**2.4 [2pt]** Calculate the first and second moments of the degree distribution of each graph."
      ]
    },
    {
      "cell_type": "code",
      "execution_count": 15,
      "metadata": {},
      "outputs": [],
      "source": [
        "def calculate_moment(degree,n):\n",
        "    return np.mean(np.power(degree, n))"
      ]
    },
    {
      "cell_type": "code",
      "execution_count": 16,
      "metadata": {
        "id": "6XT2TaV5pA2f"
      },
      "outputs": [
        {
          "name": "stdout",
          "output_type": "stream",
          "text": [
            "1st moment of citation graph: 3.9569377990430623\n",
            "2nd moment of citation graph: 78.53588516746412\n",
            "1st moment of feature graph: 169.0909090909091\n",
            "2nd moment of feature graph: 43523.6985645933\n"
          ]
        }
      ],
      "source": [
        "# Your solution here ###########################################################\n",
        "cit_moment_1=calculate_moment(degrees_citation,1)\n",
        "cit_moment_2=calculate_moment(degrees_citation,2)\n",
        "feat_moment_1=calculate_moment(degrees_feature,1)\n",
        "feat_moment_2=calculate_moment(degrees_feature,2)\n",
        "#^^^^^^^^^^^^^^^^^^^^^^^^^^^^^^^^^^^^^^^^^^^^^^^^^^^^^^^^^^^^^^^^^^^^^^^^^^^^^^^\n",
        "\n",
        "print(f\"1st moment of citation graph: {cit_moment_1}\")\n",
        "print(f\"2nd moment of citation graph: {cit_moment_2}\")\n",
        "print(f\"1st moment of feature graph: {feat_moment_1}\")\n",
        "print(f\"2nd moment of feature graph: {feat_moment_2}\")"
      ]
    },
    {
      "cell_type": "markdown",
      "metadata": {
        "id": "F4DneNxEpA2f"
      },
      "source": [
        "**2.5 [3pt]** Explain what information the moments provide about the graphs.\n",
        "Discuss about the differences in moments between graphs by comparing their degree distributions."
      ]
    },
    {
      "attachments": {},
      "cell_type": "markdown",
      "metadata": {
        "id": "UvR1k4Y0pA2f"
      },
      "source": [
        "**Your answer here:** (To change)\n",
        "The first moment, also known as the mean or expected value, provides information about the average degree of the graph. It is calculated by summing the degrees of all nodes and dividing by the number of nodes in the graph. A higher mean degree indicates that the nodes in the graph are more interconnected and that there are more edges overall.\n",
        "\n",
        "The second moment, also known as the variance, provides information about the spread of the degree distribution. It is calculated by summing the squared differences between each node's degree and the mean degree, and then dividing by the number of nodes in the graph. A higher variance indicates that the degree distribution is more spread out, with some nodes having many more edges than others.\n",
        "\n",
        "Comparing the moments of different graphs can reveal differences in their degree distributions. For example, consider two graphs with the same number of nodes but different degree distributions. The first graph has a bell-shaped degree distribution centered around the mean degree, while the second graph has a skewed degree distribution with a few nodes having many more edges than the rest.\n",
        "\n",
        "The first moment of the first graph would be higher than the first moment of the second graph since the average degree is higher. However, the second moment of the second graph would be higher than the second moment of the first graph since the degree distribution is more spread out.\n",
        "\n",
        "In general, graphs with higher variance in their degree distributions tend to have a few nodes with very high degrees, known as \"hubs.\" These hubs play an important role in many network processes and can have a significant impact on the graph's structure and function.\n"
      ]
    },
    {
      "cell_type": "markdown",
      "metadata": {
        "id": "YZMRp0DLpA2g"
      },
      "source": [
        "**2.6 [2pt]** Select the 20 largest hubs for each of the graphs and remove them. Observe the sparsity pattern of the adjacency matrices of the citation and feature graphs before and after such a reduction."
      ]
    },
    {
      "cell_type": "code",
      "execution_count": 17,
      "metadata": {
        "id": "mzggzZ79pA2g"
      },
      "outputs": [
        {
          "data": {
            "image/png": "[encoded data removed]",
            "text/plain": [
              "<Figure size 1152x1152 with 4 Axes>"
            ]
          },
          "metadata": {
            "needs_background": "light"
          },
          "output_type": "display_data"
        }
      ],
      "source": [
        "# Your solution here ###########################################################\n",
        "# get degrees of the new unordered one\n",
        "feature_hubs = np.argsort(-degrees_feature)[:20]\n",
        "citation_hubs = np.argsort(-degrees_citation)[:20]\n",
        "reduced_A_citation= A_citation.copy()\n",
        "reduced_A_feature= A_feature.copy()\n",
        "reduced_A_feature[feature_hubs, :] = 0\n",
        "reduced_A_citation[citation_hubs, :] = 0\n",
        "\n",
        "\n",
        "\n",
        "#^^^^^^^^^^^^^^^^^^^^^^^^^^^^^^^^^^^^^^^^^^^^^^^^^^^^^^^^^^^^^^^^^^^^^^^^^^^^^^^\n",
        "\n",
        "fig, axes = plt.subplots(2, 2, figsize=(16, 16))\n",
        "axes[0, 0].set_title('Feature graph: adjacency matrix sparsity pattern')\n",
        "axes[0, 0].spy(A_feature);\n",
        "axes[0, 1].set_title('Feature graph without top 20 hubs: adjacency matrix sparsity pattern')\n",
        "axes[0, 1].spy(reduced_A_feature);\n",
        "axes[1, 0].set_title('Citation graph: adjacency matrix sparsity pattern')\n",
        "axes[1, 0].spy(A_citation);\n",
        "axes[1, 1].set_title('Citation graph without top 20 hubs: adjacency matrix sparsity pattern')\n",
        "axes[1, 1].spy(reduced_A_citation);\n"
      ]
    },
    {
      "cell_type": "markdown",
      "metadata": {
        "id": "71DYW-kjpA2g"
      },
      "source": [
        "**2.7 [1pt]** Plot the new degree distribution histograms."
      ]
    },
    {
      "cell_type": "code",
      "execution_count": 18,
      "metadata": {
        "id": "-Jg7fH-RpA2g"
      },
      "outputs": [
        {
          "data": {
            "image/png": "[encoded data removed]",
            "text/plain": [
              "<Figure size 1152x288 with 2 Axes>"
            ]
          },
          "metadata": {
            "needs_background": "light"
          },
          "output_type": "display_data"
        }
      ],
      "source": [
        "# Your solution here ###########################################################\n",
        "#^^^^^^^^^^^^^^^^^^^^^^^^^^^^^^^^^^^^^^^^^^^^^^^^^^^^^^^^^^^^^^^^^^^^^^^^^^^^^^^\n",
        "# Degree distribution\n",
        "reduced_degrees_cit = np.sum(reduced_A_citation, axis=1)\n",
        "reduced_degrees_feat = np.sum(reduced_A_feature, axis=1)\n",
        "\n",
        "\n",
        "#^^^^^^^^^^^^^^^^^^^^^^^^^^^^^^^^^^^^^^^^^^^^^^^^^^^^^^^^^^^^^^^^^^^^^^^^^^^^^^^\n",
        "deg_hist_normalization = np.ones(reduced_degrees_feat.shape[0]) / reduced_degrees_feat.shape[0]\n",
        "\n",
        "fig, axes = plt.subplots(1, 2, figsize=(16, 4))\n",
        "axes[0].set_title('Citation graph degree distribution')\n",
        "axes[0].hist(reduced_degrees_cit, weights=deg_hist_normalization);\n",
        "axes[1].set_title('Feature graph degree distribution')\n",
        "axes[1].hist(reduced_degrees_feat, weights=deg_hist_normalization);"
      ]
    },
    {
      "cell_type": "markdown",
      "metadata": {
        "id": "chqcaWv6pA2g"
      },
      "source": [
        "**2.8 [1pt]** Compute the first and second moments for the new graphs."
      ]
    },
    {
      "cell_type": "code",
      "execution_count": 19,
      "metadata": {
        "id": "pYFLFVcepA2g"
      },
      "outputs": [
        {
          "name": "stdout",
          "output_type": "stream",
          "text": [
            "Citation graph first moment: 2.9760765550239237\n",
            "Citation graph second moment: 12.435406698564593\n",
            "Feature graph first moment:  149.13875598086125\n",
            "Feature graph second moment:  35203.65071770335\n"
          ]
        }
      ],
      "source": [
        "# Your solution here ###########################################################\n",
        "#^^^^^^^^^^^^^^^^^^^^^^^^^^^^^^^^^^^^^^^^^^^^^^^^^^^^^^^^^^^^^^^^^^^^^^^^^^^^^^^\n",
        "reduced_cit_moment_1=calculate_moment(reduced_degrees_cit,1)\n",
        "reduced_cit_moment_2=calculate_moment(reduced_degrees_cit,2)\n",
        "reduced_feat_moment_1=calculate_moment(reduced_degrees_feat,1)\n",
        "reduced_feat_moment_2=calculate_moment(reduced_degrees_feat,2)\n",
        "\n",
        "\n",
        "#^^^^^^^^^^^^^^^^^^^^^^^^^^^^^^^^^^^^^^^^^^^^^^^^^^^^^^^^^^^^^^^^^^^^^^^^^^^^^^^\n",
        "print(\"Citation graph first moment:\", reduced_cit_moment_1)\n",
        "print(\"Citation graph second moment:\", reduced_cit_moment_2)\n",
        "print(\"Feature graph first moment: \", reduced_feat_moment_1)\n",
        "print(\"Feature graph second moment: \", reduced_feat_moment_2)"
      ]
    },
    {
      "cell_type": "markdown",
      "metadata": {
        "id": "eE970zUMpA2g"
      },
      "source": [
        "**2.9 [2pt]** Print the number of edges in the reduced graphs."
      ]
    },
    {
      "cell_type": "code",
      "execution_count": 20,
      "metadata": {
        "id": "Xfkyt_OhpA2g"
      },
      "outputs": [
        {
          "name": "stdout",
          "output_type": "stream",
          "text": [
            "Reduced feature graph edges: 31170.0\n",
            "Reduced citation graph edges: 622.0\n"
          ]
        }
      ],
      "source": [
        "# Your solution here ###########################################################\n",
        "print(\"Reduced feature graph edges:\",reduced_A_feature.sum()/2)\n",
        "print(\"Reduced citation graph edges:\",reduced_A_citation.sum()/2)\n",
        "#^^^^^^^^^^^^^^^^^^^^^^^^^^^^^^^^^^^^^^^^^^^^^^^^^^^^^^^^^^^^^^^^^^^^^^^^^^^^^^^"
      ]
    },
    {
      "cell_type": "markdown",
      "metadata": {
        "id": "WB8GTvkopA2h"
      },
      "source": [
        "**2.10 [2pt]** Describe the effect of removing the hubs in both networks and compare them. Look at the percentage changes for each moment and explain which of the moments is affected the most and in which graph. Discuss about the meaning of this change.\n",
        "\n",
        "**Hint:** Examine the degree distributions."
      ]
    },
    {
      "cell_type": "markdown",
      "metadata": {
        "id": "zcdH4cDJpA2h"
      },
      "source": [
        "**Your answer here:** \n"
      ]
    },
    {
      "cell_type": "markdown",
      "metadata": {
        "id": "kS2Da0d6pA2h"
      },
      "source": [
        "### Question 3 [8pt]: Pruning, sparsity, paths"
      ]
    },
    {
      "cell_type": "markdown",
      "metadata": {
        "id": "a_GR0hJmpA2h"
      },
      "source": [
        "**3.1 [1pt]** By adjusting the threshold of the euclidean distance matrix, prune the feature graph so that its number of edges is roughly close (within a hundred edges) to the number of edges in the citation graph."
      ]
    },
    {
      "cell_type": "code",
      "execution_count": 21,
      "metadata": {},
      "outputs": [
        {
          "name": "stdout",
          "output_type": "stream",
          "text": [
            "Number of edges in the citation graph: 827.0\n",
            "Number of edges in the feature graph: 35340.0\n"
          ]
        }
      ],
      "source": [
        "num_edges_citation = np.sum(A_citation) / 2\n",
        "num_edges_feature = np.sum(A_feature) / 2\n",
        "\n",
        "print(f\"Number of edges in the citation graph: {num_edges_citation}\")\n",
        "print(f\"Number of edges in the feature graph: {num_edges_feature}\")"
      ]
    },
    {
      "cell_type": "code",
      "execution_count": 22,
      "metadata": {},
      "outputs": [
        {
          "name": "stdout",
          "output_type": "stream",
          "text": [
            "Number of edges in the feature graph to prune: 616.0\n"
          ]
        }
      ],
      "source": [
        "A_feature_pruned = (euclidian_distance > 6.79).astype(float)\n",
        "A_feature_pruned -= np.diag(np.diag(A_feature_pruned))\n",
        "A_feature_pruned += A_feature_pruned.T\n",
        "A_feature_pruned[A_feature_pruned > 1] = 1\n",
        "num_edges_feature_pruned = A_feature_pruned.sum() // 2\n",
        "print('Number of edges in the feature graph to prune:', num_edges_feature_pruned)\n"
      ]
    },
    {
      "cell_type": "code",
      "execution_count": 23,
      "metadata": {
        "id": "DK9TUUIOpA2h"
      },
      "outputs": [
        {
          "name": "stdout",
          "output_type": "stream",
          "text": [
            "Number of edges in the feature graph: 35340.0\n",
            "Number of edges in the feature graph after pruning: 616.0\n",
            "Number of edges in the citation graph: 827.0\n"
          ]
        }
      ],
      "source": [
        "# Print the results\n",
        "print(f\"Number of edges in the feature graph: {num_edges_feature}\")\n",
        "print(f\"Number of edges in the feature graph after pruning: {num_edges_feature_pruned}\")\n",
        "print(f\"Number of edges in the citation graph: {np.sum(A_citation) / 2}\")\n",
        "\n",
        "\n"
      ]
    },
    {
      "cell_type": "markdown",
      "metadata": {
        "id": "BQIEJAsJpA2h"
      },
      "source": [
        "Check your results by comparing the sparsity patterns and total number of edges between the graphs."
      ]
    },
    {
      "cell_type": "code",
      "execution_count": 24,
      "metadata": {
        "id": "urkjuDimpA2h"
      },
      "outputs": [
        {
          "data": {
            "image/png": "[encoded data removed]",
            "text/plain": [
              "<Figure size 864x432 with 2 Axes>"
            ]
          },
          "metadata": {
            "needs_background": "light"
          },
          "output_type": "display_data"
        }
      ],
      "source": [
        "fig, axes = plt.subplots(1, 2, figsize=(12, 6))\n",
        "axes[0].set_title('Citation graph sparsity')\n",
        "axes[0].spy(A_citation);\n",
        "axes[1].set_title('Feature graph sparsity')\n",
        "axes[1].spy(A_feature_pruned);"
      ]
    },
    {
      "cell_type": "markdown",
      "metadata": {
        "id": "2KYNw1cupA2h"
      },
      "source": [
        "Let $C_{k}(i,j)$ denote the number of paths of length $k$ from node $i$ to node $j$. \n",
        "\n",
        "We define the path matrix $P$, with entries\n",
        "$ P_{ij} = \\displaystyle\\sum_{k=0}^{N}C_{k}(i,j). $"
      ]
    },
    {
      "cell_type": "markdown",
      "metadata": {
        "id": "EoOwMmDspA2h"
      },
      "source": [
        "**3.2 [1pt]** Calculate the path matrices for both the citation and the unpruned feature graphs for $N =10$.  \n",
        "\n",
        "*Hint:* Use [powers of the adjacency matrix](https://en.wikipedia.org/wiki/Adjacency_matrix#Matrix_powers)."
      ]
    },
    {
      "cell_type": "code",
      "execution_count": 25,
      "metadata": {
        "id": "wn6DdZ8KpA2h"
      },
      "outputs": [],
      "source": [
        "# Calculate the path matrix P for the citation graph\n",
        "path_matrix_citation = np.zeros_like(A_citation)\n",
        "for k in range(0, 11):\n",
        "    path_matrix_citation += np.linalg.matrix_power(A_citation, k)\n",
        "\n",
        "# Calculate the path matrix P for the unpruned feature graph\n",
        "path_matrix_feature = np.zeros_like(A_feature)\n",
        "for k in range(0, 11):\n",
        "    path_matrix_feature += np.linalg.matrix_power(A_feature, k)"
      ]
    },
    {
      "cell_type": "markdown",
      "metadata": {
        "id": "9wUBT7jppA2h"
      },
      "source": [
        "Check the sparsity pattern for both of path matrices."
      ]
    },
    {
      "cell_type": "code",
      "execution_count": 26,
      "metadata": {
        "id": "451MukqSpA2i"
      },
      "outputs": [
        {
          "data": {
            "image/png": "[encoded data removed]",
            "text/plain": [
              "<Figure size 1152x648 with 2 Axes>"
            ]
          },
          "metadata": {
            "needs_background": "light"
          },
          "output_type": "display_data"
        }
      ],
      "source": [
        "fig, axes = plt.subplots(1, 2, figsize=(16, 9))\n",
        "axes[0].set_title('Citation Path matrix sparsity')\n",
        "axes[0].spy(path_matrix_citation);\n",
        "axes[1].set_title('Feature Path matrix sparsity')\n",
        "axes[1].spy(path_matrix_feature);"
      ]
    },
    {
      "cell_type": "markdown",
      "metadata": {
        "id": "MJxrbQojpA2i"
      },
      "source": [
        "**3.3 [2pt]** Now calculate the path matrix of the pruned feature graph for $N=10$. Plot the corresponding sparsity pattern.\n",
        "Describe the differences and motivate."
      ]
    },
    {
      "cell_type": "code",
      "execution_count": 27,
      "metadata": {
        "id": "jpT6ez3ypA2i"
      },
      "outputs": [
        {
          "data": {
            "image/png": "[encoded data removed]",
            "text/plain": [
              "<Figure size 864x432 with 1 Axes>"
            ]
          },
          "metadata": {
            "needs_background": "light"
          },
          "output_type": "display_data"
        }
      ],
      "source": [
        "# Your solution here ###########################################################\n",
        "# Calculate the path matrix P for the pruned feature graph\n",
        "#^^^^^^^\n",
        "\n",
        "path_matrix_pruned = np.zeros_like(A_feature_pruned)\n",
        "for k in range(0, 11):\n",
        "    path_matrix_pruned += np.linalg.matrix_power(A_feature_pruned, k)\n",
        "\n",
        "\n",
        "#^^^^^^^^^^^^^^^^^^^^^^^^^^^^^^^^^^^^^^^^^^^^^^^^^^^^^^^^^^^^^^^^^^^^^^^^^^^^^^^\n",
        "plt.figure(figsize=(12, 6))\n",
        "plt.title('Feature Path matrix sparsity')\n",
        "plt.spy(path_matrix_pruned);\n"
      ]
    },
    {
      "attachments": {},
      "cell_type": "markdown",
      "metadata": {
        "id": "v9UlGOlGpA2i"
      },
      "source": [
        "**Your answer here:** \n",
        "\n",
        "The path matrix for the pruned feature graph exhibits entries of zero, in contrast to the unpruned path matrix which does not. This dissimilarity can be attributed to the removal of edges with low feature importance during the pruning process, which subsequently leads to a sparser graph. The sparsity pattern observed in the pruned graph is a direct consequence of the removal of such edges and the concomitant simplification of the graph structure.\n"
      ]
    },
    {
      "cell_type": "markdown",
      "metadata": {
        "id": "UAZYqiSNpA2i"
      },
      "source": [
        "**3.4 [2pt]** Describe how you can use the above process of counting paths to determine whether a graph is connected or not. State whether the original (unpruned) feature graph is connected."
      ]
    },
    {
      "attachments": {},
      "cell_type": "markdown",
      "metadata": {
        "id": "_F6UQ-AfpA2i"
      },
      "source": [
        "**Your answer here:** \n",
        "\n",
        "The employment of the path matrix $P$ is instrumental in ascertaining the connectivity status of a given graph. In particular, when a graph is connected, the values of every element within $P$ will exceed zero. Conversely, in the event that the graph is not connected, at least one value within $P$ will equal zero."
      ]
    },
    {
      "cell_type": "code",
      "execution_count": 28,
      "metadata": {},
      "outputs": [
        {
          "name": "stdout",
          "output_type": "stream",
          "text": [
            "Every entry in the path matrix of the unpruned feature graph is non-zero, so the graph is connected.\n"
          ]
        }
      ],
      "source": [
        "# check if every entry in the unpunred path matrix is non-zero\n",
        "if np.all(path_matrix_feature):\n",
        "    print(\"Every entry in the path matrix of the unpruned feature graph is non-zero, so the graph is connected.\")\n",
        "else:\n",
        "    print(\"Not every entry in the path matrix of the unpruned feature graph is non-zero, so the graph is not connected.\")"
      ]
    },
    {
      "cell_type": "markdown",
      "metadata": {
        "id": "8y0YME35pA2i"
      },
      "source": [
        "**3.5 [1pt]** Supposing the graph is connected, describe how to measure its diameter using the path matrix."
      ]
    },
    {
      "attachments": {},
      "cell_type": "markdown",
      "metadata": {
        "id": "Y85oLgVxpA2i"
      },
      "source": [
        "**Your answer here:** \n",
        "\n",
        "The diameter of a graph is characterized as the length of the longest shortest path between any two vertices of the graph. It is important to note that the shortest path is defined as the path with the minimum number of edges between the two vertices.\n",
        "\n",
        "Subsequently, the diameter is the minimum value of path length ($N$)such that there are no zero entries present in the path matrix. This value of $N$ signifies the minimum path length at which paths between all pairs of nodes in the graph are present."
      ]
    },
    {
      "cell_type": "markdown",
      "metadata": {
        "id": "BM8hsuY6pA2i"
      },
      "source": [
        "**3.6 [1pt]** If any of your graphs is connected, calculate the diameter using that process."
      ]
    },
    {
      "cell_type": "code",
      "execution_count": 29,
      "metadata": {
        "id": "BsMCLo4kpA2i"
      },
      "outputs": [
        {
          "name": "stdout",
          "output_type": "stream",
          "text": [
            "The diameter is: 2\n"
          ]
        }
      ],
      "source": [
        "# Your solution here ###########################################################\n",
        "\n",
        "# compute the minimum value of N for which the graph has no zero entries in the path matrix\n",
        "path_matrix_feature_copy = np.zeros_like(A_feature)\n",
        "N = path_matrix_feature_copy.shape[0]\n",
        "\n",
        "for i in range(N):\n",
        "    path_matrix_feature_copy += np.linalg.matrix_power(A_feature, i)\n",
        "    # check if every entry in the path matrix is non-zero\n",
        "    if np.all(path_matrix_feature_copy):\n",
        "        # if so, the diameter is i\n",
        "        diameter = i\n",
        "        # break the loop as we have found the diameter and do not need to continue\n",
        "        break\n",
        "\n",
        "\n",
        "print(f\"The diameter is: {diameter}\")"
      ]
    },
    {
      "cell_type": "markdown",
      "metadata": {
        "id": "_GFKkTx6QRh_"
      },
      "source": [
        "### Question 4 [8pt]: Shortest path\n",
        "\n",
        "Here, we calculate the shortest path from a source node to a target node. A classic method for finding the shortest path on unweighted networks is Breadth-First Search (BFS) method. Check the BFS steps in the Lecture 'Graph Theory Basis'.\n",
        "\n",
        "To this end, we first define a function for finding the neighboring nodes of a specified node x. "
      ]
    },
    {
      "cell_type": "code",
      "execution_count": 30,
      "metadata": {
        "id": "uQpEv_qLpA2j"
      },
      "outputs": [],
      "source": [
        "### Get the neighboring set of node x\n",
        "def find_neighbors(x):\n",
        "    return [i for i in range(A_feature.shape[0]) if A_feature[x][i]>0]"
      ]
    },
    {
      "cell_type": "markdown",
      "metadata": {
        "id": "P2mKlYSXpA2j"
      },
      "source": [
        "**4.1 [2pt]** Calculate the path length from the source node to the target node by filling the missing code in the algorithm: "
      ]
    },
    {
      "cell_type": "code",
      "execution_count": 36,
      "metadata": {
        "id": "DeE1KQ9epA2j"
      },
      "outputs": [
        {
          "name": "stdout",
          "output_type": "stream",
          "text": [
            "The shortest path length from node 0 to node 10 is: 2\n",
            "One shortest path is: [0, 2, 10]\n"
          ]
        }
      ],
      "source": [
        "source_node, target_node, path_length = 0, 10, 0\n",
        "source_set = [source_node]\n",
        "path = []\n",
        "stop_finding = 0\n",
        "iteration_number = A_feature.shape[0]\n",
        "i = 0\n",
        "if source_node==target_node:\n",
        "    stop_finding = 1\n",
        "    path.append([source_node,target_node,path_length])\n",
        "while stop_finding == 0 and i < iteration_number:\n",
        "    source_set_new = []\n",
        "    for n in source_set:\n",
        "        neighbors = find_neighbors(n)\n",
        "        if target_node in neighbors:\n",
        "            path.append([n,target_node,path_length])\n",
        "            stop_finding = 1\n",
        "            break\n",
        "        else:\n",
        "            for nn in neighbors:\n",
        "                path.append([n,nn,path_length])\n",
        "            source_set_new += neighbors\n",
        "    path_length += 1\n",
        "    source_set = source_set_new.copy()\n",
        "    i += 1\n",
        "if stop_finding == 0:\n",
        "    path_length = ['Infinity']\n",
        "    shortest_path = ['None']\n",
        "else:\n",
        "    child_node = target_node\n",
        "    shortest_path = [target_node]\n",
        "    for i in range(path_length-1,-1,-1):\n",
        "        parent_node = [x for [x, y, z] in path if y==child_node and z==i]\n",
        "        shortest_path.append(parent_node[0])\n",
        "        child_node = parent_node[0] #Select one of the parent nodes as the child node in previous round\n",
        "    shortest_path.reverse()\n",
        "\n",
        "print(f\"The shortest path length from node {source_node} to node {target_node} is: {path_length}\")\n",
        "print(f\"One shortest path is: {shortest_path}\")\n"
      ]
    },
    {
      "cell_type": "markdown",
      "metadata": {
        "id": "N-YHblhBpA2j"
      },
      "source": [
        "**4.2 [2pt]** Get all edges visited by BFS starting from a source node by filling the missing lines in the following code: "
      ]
    },
    {
      "cell_type": "code",
      "execution_count": 37,
      "metadata": {
        "id": "OmgJLVvDpA2j"
      },
      "outputs": [
        {
          "name": "stdout",
          "output_type": "stream",
          "text": [
            "Edges visited by Breadth-First Search method starting from node 0:\n"
          ]
        },
        {
          "data": {
            "text/plain": [
              "[(0, 2), (0, 3), (0, 4), (0, 5), (0, 6)]"
            ]
          },
          "execution_count": 37,
          "metadata": {},
          "output_type": "execute_result"
        }
      ],
      "source": [
        "# All edges visited by BFS method starting from a source node\n",
        "BFS_edges = []\n",
        "unexplored_list = list(range(A_feature.shape[0]))\n",
        "source_node = 0\n",
        "source_set = [source_node]\n",
        "unexplored_list.remove(source_node) \n",
        "stop_finding = 0\n",
        "while stop_finding == 0:\n",
        "    source_set_new = []\n",
        "    for n in source_set:\n",
        "        neighbors = find_neighbors(n)\n",
        "        for nn in neighbors:\n",
        "            if nn in unexplored_list:\n",
        "                # Add edge to BFS_edges\n",
        "                BFS_edges.append((n,nn)) \n",
        "                # Remove node from unexplored_list\n",
        "                unexplored_list.remove(nn) \n",
        "                # Add node to source_set_new\n",
        "                source_set_new.append(nn) \n",
        "    if not source_set_new:\n",
        "        stop_finding = 1      \n",
        "    else:\n",
        "        source_set = source_set_new.copy()\n",
        "print(f\"Edges visited by Breadth-First Search method starting from node {source_node}:\")\n",
        "list(BFS_edges)[:5]\n"
      ]
    },
    {
      "cell_type": "markdown",
      "metadata": {
        "id": "PgJHYISppA2j"
      },
      "source": [
        "**4.3 [2pt]** Explain the difference between BFS algorithm and the Dijkstra's algorithm."
      ]
    },
    {
      "attachments": {},
      "cell_type": "markdown",
      "metadata": {
        "id": "MXAxJv83pA2j"
      },
      "source": [
        "**Your answer here:**\n",
        "\n",
        "BFS is used to look into each node and edge in a graph, beginning with a predetermined source node. Before moving on to the nodes at a higher distance, it explores all nodes within a certain distance of the source. The the weights or costs related to the edges in the graph are not taken into account by BFS.It follows that BFS can be used to find the shortest path in an unweighted graph or to iteratively navigate a graph. Dijkstra's algorithm, on the other hand, is used to find the shortest path between a source node and all other nodes in a weighted graph. It takes into account the weights or costs associated with the edges in the graph and finds the path with the lowest cost to each node. Dijkstra's algorithm employs a priority queue to select the next node to visit based on its current distance from the source node, and it updates all of its neighbors' distances accordingly. \n"
      ]
    },
    {
      "cell_type": "markdown",
      "metadata": {
        "id": "uhAredjwpA2j"
      },
      "source": [
        "**4.4 [2pt]** Check if your guess was correct using [NetworkX](https://networkx.github.io/documentation/stable/reference/algorithms/generated/networkx.algorithms.distance_measures.diameter.html).\n",
        "\n",
        "*Note:* usage of NetworkX is only allowed in this part of Section 1."
      ]
    },
    {
      "cell_type": "markdown",
      "metadata": {
        "id": "1k5w4aVQlMof"
      },
      "source": [
        "Compute the diameter using NetworkX."
      ]
    },
    {
      "cell_type": "code",
      "execution_count": 39,
      "metadata": {
        "id": "ku24S_06pA2j"
      },
      "outputs": [
        {
          "name": "stdout",
          "output_type": "stream",
          "text": [
            "Diameter according to networkx: 2\n"
          ]
        }
      ],
      "source": [
        "import networkx as nx\n",
        "\n",
        "# Create a graph from the adjacency matrix\n",
        "G = nx.from_numpy_array(A_feature)\n",
        "\n",
        "# Compute the diameter of the graph\n",
        "diameter = nx.diameter(G)\n",
        "\n",
        "\n",
        "print(f\"Diameter according to networkx: {diameter}\")\n"
      ]
    },
    {
      "cell_type": "markdown",
      "metadata": {
        "id": "am0CrxROpA2j"
      },
      "source": [
        "Let us now check our results of BFS method using NetworkX:\n",
        "<br>\n",
        "(1) As before, print the first 5 BFS visited edges\n",
        "<br>\n",
        "(2) As before, calculate and print the shortest path length from node 0 to node 10 "
      ]
    },
    {
      "cell_type": "code",
      "execution_count": 40,
      "metadata": {
        "id": "SnT56smypA2j"
      },
      "outputs": [
        {
          "name": "stdout",
          "output_type": "stream",
          "text": [
            "First 5 edges visited by BFS using networkx:\n",
            "(0, 2)\n",
            "(0, 3)\n",
            "(0, 4)\n",
            "(0, 5)\n",
            "(0, 6)\n"
          ]
        }
      ],
      "source": [
        "# Perform BFS starting from node 0\n",
        "BFS_edges = nx.bfs_edges(G, 0)\n",
        "\n",
        "# Print the first 5 edges visited by BFS\n",
        "print(\"First 5 edges visited by BFS using networkx:\")\n",
        "for i, edge in enumerate(BFS_edges):\n",
        "    if i == 5:\n",
        "        break\n",
        "    print(edge)\n",
        "\n"
      ]
    },
    {
      "cell_type": "code",
      "execution_count": 42,
      "metadata": {
        "id": "t1Dam2xOpA2j"
      },
      "outputs": [
        {
          "name": "stdout",
          "output_type": "stream",
          "text": [
            "Shortest path from node 0 to node 10: [0, 2, 10]\n"
          ]
        }
      ],
      "source": [
        "# calculate and print the shortest path from node 0 to node 10\n",
        "shortest_path = nx.shortest_path(G, 0, 10)\n",
        "print(f\"Shortest path from node 0 to node 10: {shortest_path}\")"
      ]
    }
  ],
  "metadata": {
    "colab": {
      "provenance": [],
      "toc_visible": true
    },
    "kernelspec": {
      "display_name": "Python 3",
      "language": "python",
      "name": "python3"
    },
    "language_info": {
      "codemirror_mode": {
        "name": "ipython",
        "version": 3
      },
      "file_extension": ".py",
      "mimetype": "text/x-python",
      "name": "python",
      "nbconvert_exporter": "python",
      "pygments_lexer": "ipython3",
      "version": "3.9.5"
    },
    "vscode": {
      "interpreter": {
        "hash": "afb734500600fd355917ca529030176ea0ca205570884b88f2f6f7d791fd3fbe"
      }
    }
  },
  "nbformat": 4,
  "nbformat_minor": 0
}
