{
  "cells": [
    {
      "cell_type": "markdown",
      "metadata": {
        "id": "8S5mo9I3pA2Q"
      },
      "source": [
        "# [NML23] Assignment 1B: Network Models\n",
        "\n",
        "TAs: [Ortal Senouf](https://people.epfl.ch/ortal.senouf) and [William Cappelletti](https://people.epfl.ch/william.cappelletti)"
      ]
    },
    {
      "cell_type": "markdown",
      "metadata": {
        "id": "5fKV_i9ZpA2U"
      },
      "source": [
        "## Students\n",
        "\n",
        "* Team: `<your team number>`\n",
        "* Students: `<your name`> (for the indivudual submission) or `<the name of all students in the team>` (for the team submission)"
      ]
    },
    {
      "cell_type": "markdown",
      "metadata": {
        "id": "aKj5_Hb1-tBm"
      },
      "source": [
        "## Rules\n",
        "\n",
        "> ⚠️ **Read carefully before starting**\n",
        "\n",
        "**Deadline:** March 28th\n",
        "\n",
        "**Grading:**\n",
        "* The integrality of Assignment 1 will be scaled to 100% and will amount to 25% of the overall assignments score.\n",
        "* The total number of points for part B is **52**, the points for each exercise are stated in the instructions.\n",
        "* All team members will receive the same grade based on the team solution.\n",
        "* Collaboration between team members is encouraged. No collaboration between teams is allowed.\n",
        "\n",
        "**Expected output:**\n",
        "\n",
        "You will have coding and theoretical questions. Coding exercises shall be solved within the specified space:\n",
        "```python\n",
        "# Your solution here ###########################################################\n",
        "...\n",
        "#^^^^^^^^^^^^^^^^^^^^^^^^^^^^^^^^^^^^^^^^^^^^^^^^^^^^^^^^^^^^^^^^^^^^^^^^^^^^^^^\n",
        "```\n",
        "Anything outside shall not be touched, except if otherwise stated.\n",
        "\n",
        "Theoretical questions shall be answered in the following markdown cell. The first line will be \n",
        "> **Your answer here:**\n",
        "\n",
        "**Submission:**\n",
        "* Your submission is self-contained in the `.ipynb` file.\n",
        "\n",
        "* Code has to be clean and readable. Provide meaningful variable names and comment where needed.\n",
        "\n",
        "* Textual answers in [markdown cells][md_cells] shall be short: one to two\n",
        "  sentences. Math shall be written in [LaTeX][md_latex].\n",
        "    **NOTE**: handwritten notes pasted in the notebook are ignored\n",
        "\n",
        "* You cannot import any other library than we imported.\n",
        "  Note that Networkx is imported in the second section and cannot be used in the first except for the Question 4 of Section 1 (at the indicated portion only).\n",
        "\n",
        "* Make sure all cells are executed before submitting. I.e., if you open the notebook again it should show numerical results and plots. Cells not run are ignored.\n",
        "\n",
        "* Execute your notebook from a blank state before submission, to make sure it is reproducible. You can click \"Kernel\" then \"Restart Kernel and Run All Cells\" in Jupyter. We might re-run cells to ensure that the code is working and corresponds to the results.\n",
        "\n",
        "[md_cells]: https://jupyter-notebook.readthedocs.io/en/stable/examples/Notebook/Working%20With%20Markdown%20Cells.html\n",
        "[md_latex]: https://jupyter-notebook.readthedocs.io/en/stable/examples/Notebook/Working%20With%20Markdown%20Cells.html#LaTeX-equations"
      ]
    },
    {
      "cell_type": "markdown",
      "metadata": {
        "id": "cmp4-YzspA2V"
      },
      "source": [
        "## Objective\n",
        "\n",
        "The purpose of this assignment is to explore a given dataset, represent it by network by constructing different graphs. In the first section, you analyzed various network properties. In this second section, you will explore various network models and find out the network model fitting the ones you construct from the dataset."
      ]
    },
    {
      "cell_type": "code",
      "execution_count": 1,
      "metadata": {
        "id": "cve__kFpKJPB"
      },
      "outputs": [
        {
          "name": "stdout",
          "output_type": "stream",
          "text": [
            "zsh:1: command not found: wget\n"
          ]
        }
      ],
      "source": [
        "'''!pip install networkx==3.0 -q\n",
        "!wget --no-check-certificate 'https://docs.google.com/uc?export=download&id=1Ze-vDx_cMr7iNkivv8LLhniEtp4RD1ug' -O data_1b.pickle'''"
      ]
    },
    {
      "cell_type": "code",
      "execution_count": 1,
      "metadata": {},
      "outputs": [],
      "source": [
        "import os\n",
        "import urllib.request\n",
        "\n",
        "\n",
        "# Install networkx 3.0\n",
        "os.system('pip install networkx==3.0 -q')\n",
        "\n",
        "# Download data_1b.pickle from Google Drive\n",
        "url = 'https://docs.google.com/uc?export=download&id=1Ze-vDx_cMr7iNkivv8LLhniEtp4RD1ug'\n",
        "filename = 'data_1b.pickle'\n",
        "if not os.path.exists(filename):\n",
        "    urllib.request.urlretrieve(url, filename)\n",
        "\n"
      ]
    },
    {
      "cell_type": "code",
      "execution_count": 2,
      "metadata": {
        "id": "l1NdR_noi-Wv"
      },
      "outputs": [],
      "source": [
        "import pickle\n",
        "\n",
        "import matplotlib.pyplot as plt\n",
        "import numpy as np\n",
        "\n",
        "with open(\"data_1b.pickle\", \"rb\") as f:\n",
        "    data_1b = pickle.load(f)\n",
        "f.close()\n",
        "A_citation = data_1b['cit_graph']\n",
        "A_feature_pruned = data_1b['feat_graph']"
      ]
    },
    {
      "cell_type": "markdown",
      "metadata": {
        "id": "ypqiZkDqpA2j"
      },
      "source": [
        "## Section B: Network Models\n",
        "\n",
        "In this section, you will analyze the feature and citation graphs you constructed in the previous section in terms of the network model types.\n",
        "For this purpose, you can use the NetworkX libary imported below. **Notice** that the citation and features adjency matrices were given to you in the previous code block.  "
      ]
    },
    {
      "cell_type": "code",
      "execution_count": 3,
      "metadata": {
        "id": "JmopO_ynpA2k"
      },
      "outputs": [],
      "source": [
        "import networkx as nx"
      ]
    },
    {
      "cell_type": "markdown",
      "metadata": {
        "id": "_S4Tfk9LpA2k"
      },
      "source": [
        "The next cell creates NetworkX graph objects from the adjacency matrices computed in the previous section. "
      ]
    },
    {
      "cell_type": "code",
      "execution_count": 4,
      "metadata": {
        "id": "qEtZo52kpA2k"
      },
      "outputs": [
        {
          "name": "stdout",
          "output_type": "stream",
          "text": [
            "Number of nodes: 418, Number of edges: 827\n",
            "Number of self-loops: 0, Number of connected components: 16\n"
          ]
        }
      ],
      "source": [
        "G_citation = nx.from_numpy_array(A_citation)\n",
        "print('Number of nodes: {}, Number of edges: {}'. format(G_citation.number_of_nodes(), G_citation.number_of_edges()))\n",
        "print('Number of self-loops: {}, Number of connected components: {}'. format(nx.number_of_selfloops(G_citation), nx.number_connected_components(G_citation)))"
      ]
    },
    {
      "cell_type": "markdown",
      "metadata": {
        "id": "DLvCF7PupA2k"
      },
      "source": [
        "In the rest of this assignment, we will consider the pruned feature graph as the feature network."
      ]
    },
    {
      "cell_type": "code",
      "execution_count": 5,
      "metadata": {
        "id": "otYyMSyrpA2k"
      },
      "outputs": [
        {
          "name": "stdout",
          "output_type": "stream",
          "text": [
            "Number of nodes: 418, Number of edges: 2364\n",
            "Number of self-loops: 0, Number of connected components: 324\n"
          ]
        }
      ],
      "source": [
        "G_feature = nx.from_numpy_array(A_feature_pruned)\n",
        "print('Number of nodes: {}, Number of edges: {}'. format(G_feature.number_of_nodes(), G_feature.number_of_edges()))\n",
        "print('Number of self-loops: {}, Number of connected components: {}'. format(nx.number_of_selfloops(G_feature), nx.number_connected_components(G_feature)))"
      ]
    },
    {
      "cell_type": "markdown",
      "metadata": {
        "id": "5Q4SfbR5pA2k"
      },
      "source": [
        "### Question 5 [8pt]: Simulation with the Erdős–Rényi (ER) random model"
      ]
    },
    {
      "cell_type": "markdown",
      "metadata": {
        "id": "2u4zGEMrpA2k"
      },
      "source": [
        "Create an ER graph using NetworkX to simulate the citation graph and the feature graph you have. When choosing parameters for the networks, take into account the number of vertices and edges of the original networks.\n",
        "\n",
        "The number of nodes should exactly match the number of nodes in the original citation and feature graphs."
      ]
    },
    {
      "cell_type": "code",
      "execution_count": 6,
      "metadata": {
        "id": "xJgO2LHYpA2k"
      },
      "outputs": [
        {
          "data": {
            "text/plain": [
              "418"
            ]
          },
          "execution_count": 6,
          "metadata": {},
          "output_type": "execute_result"
        }
      ],
      "source": [
        "assert len(G_citation.nodes()) == len(G_feature.nodes())\n",
        "n = len(G_citation.nodes())\n",
        "n"
      ]
    },
    {
      "cell_type": "markdown",
      "metadata": {
        "id": "t8YP2dyApA2k"
      },
      "source": [
        "We pick the number of links as the average of the number of edges in the citation and the feature graph."
      ]
    },
    {
      "cell_type": "code",
      "execution_count": 7,
      "metadata": {
        "id": "iOp0dHljpA2k"
      },
      "outputs": [
        {
          "data": {
            "text/plain": [
              "1596.0"
            ]
          },
          "execution_count": 7,
          "metadata": {},
          "output_type": "execute_result"
        }
      ],
      "source": [
        "m = np.round((G_citation.size() + G_feature.size()) / 2)\n",
        "m"
      ]
    },
    {
      "cell_type": "markdown",
      "metadata": {
        "id": "1cwoXtUZpA2k"
      },
      "source": [
        "**5.1 [2pt]** Explain how to determine the probability parameter for the Erdős–Rényi graph and crate a sample graph with NetworkX"
      ]
    },
    {
      "cell_type": "markdown",
      "metadata": {
        "id": "sn8cz-vLpA2l"
      },
      "source": [
        "**Your answer here:** "
      ]
    },
    {
      "cell_type": "code",
      "execution_count": null,
      "metadata": {
        "id": "k8Bi6TJ1pA2l"
      },
      "outputs": [],
      "source": [
        "# Your solution here ###########################################################\n",
        "...\n",
        "#^^^^^^^^^^^^^^^^^^^^^^^^^^^^^^^^^^^^^^^^^^^^^^^^^^^^^^^^^^^^^^^^^^^^^^^^^^^^^^^\n",
        "G_er = nx.erdos_renyi_graph(n, p)"
      ]
    },
    {
      "cell_type": "markdown",
      "metadata": {
        "id": "BHdnG-B3pA2l"
      },
      "source": [
        "Check the number of edges in the Erdős–Rényi graph."
      ]
    },
    {
      "cell_type": "code",
      "execution_count": null,
      "metadata": {
        "id": "8Cqtu5RdpA2l"
      },
      "outputs": [],
      "source": [
        "print('My Erdos-Rényi network that simulates the citation graph has {} edges.'.format(G_er.size()))"
      ]
    },
    {
      "cell_type": "markdown",
      "metadata": {
        "id": "G-g_5krspA2l"
      },
      "source": [
        "**5.2 [2pt]** Check the size of the largest connected component in the citation, feature, and Erdős–Rényi graphs."
      ]
    },
    {
      "cell_type": "code",
      "execution_count": null,
      "metadata": {
        "id": "ofef85F8pA2l"
      },
      "outputs": [],
      "source": [
        "# Your solution here ###########################################################\n",
        "giant_citation = ...\n",
        "\n",
        "giant_feature = ...\n",
        "\n",
        "giant_er = ...\n",
        "\n",
        "#^^^^^^^^^^^^^^^^^^^^^^^^^^^^^^^^^^^^^^^^^^^^^^^^^^^^^^^^^^^^^^^^^^^^^^^^^^^^^^^\n",
        "\n",
        "print('The giant component of the citation graph has {} nodes and {} edges.'.format(giant_citation.number_of_nodes(), giant_citation.size()))\n",
        "print('The giant component of the Erdos-Rényi network has {} nodes and {} edges.'.format(giant_er.number_of_nodes(), giant_er.size()))\n",
        "print('The giant component of the feature graph has {} nodes and {} edges.'.format(giant_feature.number_of_nodes(), giant_feature.size()))"
      ]
    },
    {
      "cell_type": "markdown",
      "metadata": {
        "id": "bmHH4qkQpA2m"
      },
      "source": [
        "**5.3 [2pt]** Simulate a new Erdős–Rényi network to match the number of nodes in the giant component of the feature graph.\n",
        "Explain how to choose the probability parameter in this setting.\n",
        "\n",
        "*Hint:* Recall the expected giant component size from the lectures."
      ]
    },
    {
      "cell_type": "markdown",
      "metadata": {
        "id": "PdL0Bo4jpA2m"
      },
      "source": [
        "**Your answer here:**  "
      ]
    },
    {
      "cell_type": "code",
      "execution_count": null,
      "metadata": {
        "id": "s-rhxehnpA2m"
      },
      "outputs": [],
      "source": [
        "# Your solution here ###########################################################\n",
        "...\n",
        "#^^^^^^^^^^^^^^^^^^^^^^^^^^^^^^^^^^^^^^^^^^^^^^^^^^^^^^^^^^^^^^^^^^^^^^^^^^^^^^^\n",
        "\n",
        "G_er_new = nx.erdos_renyi_graph(n, p_new)"
      ]
    },
    {
      "cell_type": "markdown",
      "metadata": {
        "id": "FKGFC_gTpA2m"
      },
      "source": [
        "Check the size of the new Erdős–Rényi network and its giant component."
      ]
    },
    {
      "cell_type": "code",
      "execution_count": null,
      "metadata": {
        "id": "XyTfZXOXpA2m"
      },
      "outputs": [],
      "source": [
        "print('My new Erdos Renyi network that simulates the feature graph has {} edges.'.format(G_er_new.size()))\n",
        "giant_er_new = G_er_new.subgraph(max(nx.connected_components(G_er_new), key=len)) # Your code here.\n",
        "print('The giant component of the new Erdos-Rényi network has {} nodes and {} edges.'.format(giant_er_new.number_of_nodes(), giant_er_new.size()))"
      ]
    },
    {
      "cell_type": "markdown",
      "metadata": {
        "id": "2wfJtI29mo9B"
      },
      "source": [
        "**5.4 [2 pt]** Is the new ER graph a good fit for the feature graph? Explain in terms of the size and density of the GC and overall graph. Remember that the feature graph in this section is a pruned version of the original dense graph.\n",
        " "
      ]
    },
    {
      "cell_type": "markdown",
      "metadata": {
        "id": "NoISgGS9Yen9"
      },
      "source": [
        "**Your answer here:** "
      ]
    },
    {
      "cell_type": "markdown",
      "metadata": {
        "id": "7WXWixudpA2m"
      },
      "source": [
        "### Question 6 [8pt]: Degree Distributions and configuration models"
      ]
    },
    {
      "cell_type": "markdown",
      "metadata": {
        "id": "XEgOCcIIpA2m"
      },
      "source": [
        "**6.1 [1pt]** Extract with NetworkX the degree distribution of the citation and the feature graph."
      ]
    },
    {
      "cell_type": "code",
      "execution_count": null,
      "metadata": {
        "id": "kRfZklhepA2n"
      },
      "outputs": [],
      "source": [
        "# Your solution here ###########################################################\n",
        "citation_degrees = ...\n",
        "feature_degrees = ...\n",
        "#^^^^^^^^^^^^^^^^^^^^^^^^^^^^^^^^^^^^^^^^^^^^^^^^^^^^^^^^^^^^^^^^^^^^^^^^^^^^^^^\n",
        "\n",
        "fig, axes = plt.subplots(1, 2, figsize=(15, 6))\n",
        "axes[0].set_title('Citation graph')\n",
        "axes[0].hist(citation_degrees);\n",
        "axes[1].set_title('Feature graph')\n",
        "axes[1].hist(feature_degrees);"
      ]
    },
    {
      "cell_type": "markdown",
      "metadata": {
        "id": "lpeoy65GpA2n"
      },
      "source": [
        "**6.2 [2pt]** Explain what the degree distribution tell us about a network. Then, discuss how to make a prediction on the network model type of the citation and the feature graph by looking at their degree distributions."
      ]
    },
    {
      "cell_type": "markdown",
      "metadata": {
        "id": "uaV76WGzpA2n"
      },
      "source": [
        "**Your answer here:** "
      ]
    },
    {
      "cell_type": "markdown",
      "metadata": {
        "id": "jDYpjrhFpA2n"
      },
      "source": [
        "**6.3 [1pt]** Simulate a network using the configuration model to match the degree distribution of the feature exactly. Refer to [Configuration model](https://networkx.github.io/documentation/stable/reference/generated/networkx.generators.degree_seq.configuration_model.html#networkx.generators.degree_seq.configuration_model).\n"
      ]
    },
    {
      "cell_type": "code",
      "execution_count": null,
      "metadata": {
        "id": "FS_SUGS_pA2n"
      },
      "outputs": [],
      "source": [
        "# Your solution here ###########################################################\n",
        "G_config = ...\n",
        "#^^^^^^^^^^^^^^^^^^^^^^^^^^^^^^^^^^^^^^^^^^^^^^^^^^^^^^^^^^^^^^^^^^^^^^^^^^^^^^^\n",
        "print('Configuration model has {} nodes and {} edges.'.format(G_config.number_of_nodes(), G_config.size()))\n",
        "print('Feature model has {} nodes and {} edges.'.format(G_feature.number_of_nodes(), G_feature.size()))"
      ]
    },
    {
      "cell_type": "markdown",
      "metadata": {
        "id": "q086WrWlpA2n"
      },
      "source": [
        "**6.4 [2pt]** Explain if the graph generated by the configuration model is identical to the feature graph. If not, motivate how to understand if they are not the same.\n",
        "\n",
        "In both case, verify your answer with a code."
      ]
    },
    {
      "cell_type": "markdown",
      "metadata": {
        "id": "TbpsBkzBpA2n"
      },
      "source": [
        "**Your answer here:** \n"
      ]
    },
    {
      "cell_type": "code",
      "execution_count": null,
      "metadata": {
        "id": "neG--W1gJgos"
      },
      "outputs": [],
      "source": [
        "# Your solution here ###########################################################\n",
        "...\n",
        "#^^^^^^^^^^^^^^^^^^^^^^^^^^^^^^^^^^^^^^^^^^^^^^^^^^^^^^^^^^^^^^^^^^^^^^^^^^^^^^^"
      ]
    },
    {
      "cell_type": "markdown",
      "metadata": {
        "id": "jHAB38jptc4m"
      },
      "source": [
        "**6.5 [2pt]** Which alternative model would you choose to match the degree distribution of the original network while mainitaining some structural similarities? "
      ]
    },
    {
      "cell_type": "markdown",
      "metadata": {
        "id": "h7r4PQvCuLAI"
      },
      "source": [
        "**Your answer here:**"
      ]
    },
    {
      "cell_type": "markdown",
      "metadata": {
        "id": "xWBVAfiFpA2n"
      },
      "source": [
        "### Question 7 [11pt]: Clustering Coefficient and Watts-Strogatz model"
      ]
    },
    {
      "cell_type": "markdown",
      "metadata": {
        "id": "zo5Xsa82pA2n"
      },
      "source": [
        "Let us check the average clustering coefficient of the original citation and feature graphs. "
      ]
    },
    {
      "cell_type": "code",
      "execution_count": null,
      "metadata": {
        "id": "G9fG1MVvpA2o"
      },
      "outputs": [],
      "source": [
        "CC_cit = nx.average_clustering(G_citation)\n",
        "CC_feat = nx.average_clustering(G_feature)\n",
        "print(\"Clustering coefficient of citation graph:\", CC_cit)\n",
        "print(\"Clustering coefficient of feature graph:\", CC_feat)"
      ]
    },
    {
      "cell_type": "markdown",
      "metadata": {
        "id": "dH8aUu231OJ-"
      },
      "source": [
        "Let's compare it with the ER random netwrok model:"
      ]
    },
    {
      "cell_type": "code",
      "execution_count": null,
      "metadata": {
        "id": "76qYRROf1UjP"
      },
      "outputs": [],
      "source": [
        "print(\"Clustering coefficient of ER graph\", nx.average_clustering(G_er))"
      ]
    },
    {
      "cell_type": "markdown",
      "metadata": {
        "id": "qSbqq7zkpA2o"
      },
      "source": [
        "**7.1 [2pt]** Explain what the clustering coefficient tell us about a network. Comment on how it compares to the random model."
      ]
    },
    {
      "cell_type": "markdown",
      "metadata": {
        "id": "RaaT0m6npA2o"
      },
      "source": [
        "**Your answer here:** "
      ]
    },
    {
      "cell_type": "markdown",
      "metadata": {
        "id": "gpbTKCnvdi0y"
      },
      "source": [
        "**7.2 [2pt]** In order to model the relatively high cluster coefficient of the **citation** graph while still maintaining the \"small world\" feature you will now create a Watts-Strogatz (WS) graph to fit the citation graph. First, set the regularity parameter $k$ Explain your choice."
      ]
    },
    {
      "cell_type": "markdown",
      "metadata": {
        "id": "uGlBkQtEiF4P"
      },
      "source": [
        "**Your answer here:**"
      ]
    },
    {
      "cell_type": "code",
      "execution_count": null,
      "metadata": {
        "id": "mssVCPfdl1V3"
      },
      "outputs": [],
      "source": [
        "# Your solution here ###########################################################\n",
        "k_cit = ...\n",
        "#^^^^^^^^^^^^^^^^^^^^^^^^^^^^^^^^^^^^^^^^^^^^^^^^^^^^^^^^^^^^^^^^^^^^^^^^^^^^^^^"
      ]
    },
    {
      "cell_type": "markdown",
      "metadata": {
        "id": "wdbFSpSL9ILZ"
      },
      "source": [
        "**7.3 [3pt]** In order to select the optimal randomness parameter $p$ of the WS model we should monitor the clustering coefficient (CC) of the model with respect to $p$. Explain what other property should be monitored. Write a code that create WS networks with values of $p$ from $0$ to $1$ and plot the values of the CC and the other parameter with respect to p.\n",
        "\n",
        "*Note*: plot the x axis in decimal and logarithmic scale and scale the values of the properties by the value at $p=0$. Make sure to select enough points for $p$ in thr range $[0,1]$"
      ]
    },
    {
      "cell_type": "markdown",
      "metadata": {
        "id": "mYjh7Z0CDr46"
      },
      "source": [
        "**Your answer here:**"
      ]
    },
    {
      "cell_type": "code",
      "execution_count": null,
      "metadata": {
        "id": "T3Ra74uKiTof"
      },
      "outputs": [],
      "source": [
        "# Your solution here ###########################################################\n",
        "...\n",
        "#^^^^^^^^^^^^^^^^^^^^^^^^^^^^^^^^^^^^^^^^^^^^^^^^^^^^^^^^^^^^^^^^^^^^^^^^^^^^^^^"
      ]
    },
    {
      "cell_type": "markdown",
      "metadata": {
        "id": "SbUVQfxSK1PX"
      },
      "source": [
        "**7.4 [3pt]** Compute the values of the monitored properties of the real citation graph and scale them by the corresponding values of the WS models at $p=0$. Which $p$ whould you select? Explain and generate the model with the chosen parameters. \n",
        "\n",
        "*Hint*: Notice the connected components of citation graph for the computaion of the other property. "
      ]
    },
    {
      "cell_type": "code",
      "execution_count": null,
      "metadata": {
        "id": "Ev9pfN65MEFK"
      },
      "outputs": [],
      "source": [
        "# Your solution here ###########################################################\n",
        "...\n",
        "G_ws = ...\n",
        "#^^^^^^^^^^^^^^^^^^^^^^^^^^^^^^^^^^^^^^^^^^^^^^^^^^^^^^^^^^^^^^^^^^^^^^^^^^^^^^^"
      ]
    },
    {
      "cell_type": "markdown",
      "metadata": {
        "id": "kF9mQdQkkOYp"
      },
      "source": [
        "**Your answer here:**"
      ]
    },
    {
      "cell_type": "markdown",
      "metadata": {
        "id": "1SDApXpgmTld"
      },
      "source": [
        "**7.5 [1pt]** Explain whether the Watts-Strogatz model provides a good fit for the feature graph.\n",
        "\n",
        "*Hint*: Remember that the feature graph in this section is a pruned version. "
      ]
    },
    {
      "cell_type": "markdown",
      "metadata": {
        "id": "11oaXUt7pxUU"
      },
      "source": [
        "**Your answer here:**"
      ]
    },
    {
      "cell_type": "markdown",
      "metadata": {
        "id": "IldloL9GC_dp"
      },
      "source": [
        "### Question 8 [8pt]: Comparison to Barabási-Albert (BA) model"
      ]
    },
    {
      "cell_type": "markdown",
      "metadata": {
        "id": "K1AZ_mzApA2l"
      },
      "source": [
        "**8.1 [2pt]** Explain how to determine the preferential attachment parameter for Barabási–Albert graphs. Define $q$ and build the BA graph. "
      ]
    },
    {
      "cell_type": "markdown",
      "metadata": {
        "id": "0WHkOrSnpA2l"
      },
      "source": [
        "**Your answer here:** "
      ]
    },
    {
      "cell_type": "code",
      "execution_count": null,
      "metadata": {
        "id": "bI-ZNkaTpA2l"
      },
      "outputs": [],
      "source": [
        "# Your solution here ###########################################################\n",
        "q = ...\n",
        "print(q)\n",
        "#^^^^^^^^^^^^^^^^^^^^^^^^^^^^^^^^^^^^^^^^^^^^^^^^^^^^^^^^^^^^^^^^^^^^^^^^^^^^^^^\n",
        "G_ba = nx.barabasi_albert_graph(n, q)"
      ]
    },
    {
      "cell_type": "markdown",
      "metadata": {
        "id": "07jvDxU4pA2l"
      },
      "source": [
        "Check the number of edges in the Barabási–Albert graph."
      ]
    },
    {
      "cell_type": "code",
      "execution_count": null,
      "metadata": {
        "id": "t5y-GHNRpA2l"
      },
      "outputs": [],
      "source": [
        "print('My Barabási-Albert network that simulates the citation graph has {} edges.'.format(G_ba.size()))"
      ]
    },
    {
      "cell_type": "markdown",
      "metadata": {
        "id": "_i5LymqiUc8x"
      },
      "source": [
        "**8.2 [2pt]** Plot the degree distribution histograms for the simulated networks (ER, BA, Configuration, WS)."
      ]
    },
    {
      "cell_type": "code",
      "execution_count": null,
      "metadata": {
        "id": "-mrO0_zFUc8x"
      },
      "outputs": [],
      "source": [
        "# Your solution here ###########################################################\n",
        "er_degrees = ...\n",
        "ba_degrees = ...\n",
        "config_degrees = ...\n",
        "ws_degrees = ...\n",
        "#^^^^^^^^^^^^^^^^^^^^^^^^^^^^^^^^^^^^^^^^^^^^^^^^^^^^^^^^^^^^^^^^^^^^^^^^^^^^^^^\n",
        "\n",
        "fig, axes = plt.subplots(2, 2, figsize=(15, 6))\n",
        "\n",
        "bins = np.arange(20)\n",
        "axes[0,0].set_title('Erdos-Rényi network')\n",
        "axes[0,0].hist(er_degrees, bins=bins)\n",
        "axes[0,1].set_title('Barabási-Albert network')\n",
        "axes[0,1].hist(ba_degrees, bins=bins)\n",
        "axes[1,0].set_title('Configuration model')\n",
        "axes[1,0].hist(config_degrees, bins=bins)\n",
        "axes[1,1].set_title('Watts-Strogatz model')\n",
        "axes[1,1].hist(ws_degrees, bins=bins)\n",
        "plt.show()"
      ]
    },
    {
      "cell_type": "markdown",
      "metadata": {
        "id": "GaSpQ7znUzOR"
      },
      "source": [
        "**8.3 [2pt]** Explain, in terms of the degree distribution, whether there is a good match between the citation and feature graphs and the simulated networks.\n",
        "For the citation graph, choose one of the simulated networks above that match its degree distribution best and indicate your preference below."
      ]
    },
    {
      "cell_type": "markdown",
      "metadata": {
        "id": "56jSKLhYUzOR"
      },
      "source": [
        "**Your answer here:**"
      ]
    },
    {
      "cell_type": "markdown",
      "metadata": {
        "id": "-kLiLm9kpA2o"
      },
      "source": [
        "Now, let us check the average clustering coefficient for the simulated networks."
      ]
    },
    {
      "cell_type": "code",
      "execution_count": null,
      "metadata": {
        "id": "a3eyBdOzpA2o"
      },
      "outputs": [],
      "source": [
        "print(\"Erdos-Renyi clustering coefficient:\", nx.average_clustering(G_er))\n",
        "print(\"Barabasi-Albert clustering coefficient:\", nx.average_clustering(G_ba))\n",
        "print(\"Configuration model clustering coefficient:\", nx.average_clustering(nx.Graph(G_config)))\n",
        "print(\"Watts-Strogatz model clustering coefficient:\", nx.average_clustering(G_ws))"
      ]
    },
    {
      "cell_type": "markdown",
      "metadata": {
        "id": "m3tQ2KllpA2o"
      },
      "source": [
        "**8.4 [2pt]** Comment on the values you obtain for the simulated networks. Motivate if there is any good match to the citation or feature graph in terms of clustering coefficient."
      ]
    },
    {
      "cell_type": "markdown",
      "metadata": {
        "id": "usIF1fXopA2o"
      },
      "source": [
        "**Your answer here:**"
      ]
    },
    {
      "cell_type": "markdown",
      "metadata": {
        "id": "cak9n_eD4pSn"
      },
      "source": [
        "### Question 9 [13pt]: Network generating process\n",
        "\n",
        "In this question we will design a network formation model for the directed citation graph, considering it as a growth process."
      ]
    },
    {
      "cell_type": "markdown",
      "metadata": {
        "id": "DMFFZBDMjXjx"
      },
      "source": [
        "**9.1 [3pt]** Supposing that authors know all papers in their field at any time, how can we model their choice to cite each of them?"
      ]
    },
    {
      "cell_type": "markdown",
      "metadata": {
        "id": "hVIir53Abcif"
      },
      "source": [
        "**Your answer here:**\n"
      ]
    },
    {
      "cell_type": "markdown",
      "metadata": {
        "id": "3fGZNX85jKtq"
      },
      "source": [
        "**9.2 [5pt]** Define a function that takes as input the number of nodes $n$ and any other parameter you identified. This function iteratively grows a graph on $n$ nodes based on the formation model that you described in 9.1. You can add all additional arguments that you need."
      ]
    },
    {
      "cell_type": "code",
      "execution_count": null,
      "metadata": {
        "id": "yNC2_MEnobSA"
      },
      "outputs": [],
      "source": [
        "# Your solution here ###########################################################\n",
        "def my_formation_model(n_nodes: int, ...):\n",
        "    ...\n",
        "\n",
        "A_mymodel = my_formation_model(A_citation.shape[0], ...)\n",
        "\n",
        "#^^^^^^^^^^^^^^^^^^^^^^^^^^^^^^^^^^^^^^^^^^^^^^^^^^^^^^^^^^^^^^^^^^^^^^^^^^^^^^^\n"
      ]
    },
    {
      "cell_type": "markdown",
      "metadata": {
        "id": "elGVygOZug-0"
      },
      "source": [
        "**9.3 [1pt]** Check wether your graph is directed. If it is, make it undirected."
      ]
    },
    {
      "cell_type": "code",
      "execution_count": null,
      "metadata": {
        "id": "gLVcf9PfuwkU"
      },
      "outputs": [],
      "source": [
        "# Your solution here ###########################################################\n",
        "...\n",
        "\n",
        "#^^^^^^^^^^^^^^^^^^^^^^^^^^^^^^^^^^^^^^^^^^^^^^^^^^^^^^^^^^^^^^^^^^^^^^^^^^^^^^^"
      ]
    },
    {
      "cell_type": "markdown",
      "metadata": {
        "id": "xoiPypnWeTjb"
      },
      "source": [
        "**9.4 [2pt]** Compare the degree distributions of the citation graph and yours, then tune the paramters of your model to have a similar distribution."
      ]
    },
    {
      "cell_type": "code",
      "execution_count": null,
      "metadata": {
        "id": "7O_FsodYe5eP"
      },
      "outputs": [],
      "source": [
        "# Your solution here ###########################################################\n",
        "degrees_citation = ...\n",
        "degrees_mymodel = ...\n",
        "#^^^^^^^^^^^^^^^^^^^^^^^^^^^^^^^^^^^^^^^^^^^^^^^^^^^^^^^^^^^^^^^^^^^^^^^^^^^^^^^\n",
        "\n",
        "fig, ax = plt.subplots(1, 2, figsize=(15, 4))\n",
        "\n",
        "ax[0].set(title=\"Out-degree citation\")\n",
        "ax[0].hist(degrees_citation, bins=np.arange(15))\n",
        "\n",
        "ax[1].set(title=\"Out-degree my_model\")\n",
        "ax[1].hist(degrees_mymodel, bins=np.arange(15))\n",
        "\n",
        "plt.show()"
      ]
    },
    {
      "cell_type": "markdown",
      "metadata": {
        "id": "DGWM1sEGx3Sg"
      },
      "source": [
        "**9.5 [2pt]** Compute and print the following metrics:\n",
        "- Number of edges\n",
        "- Giant component size and number of edges\n",
        "- Clustering coefficient"
      ]
    },
    {
      "cell_type": "code",
      "execution_count": null,
      "metadata": {
        "id": "1fBAnAybx2q2"
      },
      "outputs": [],
      "source": [
        "# Your solution here ###########################################################\n",
        "...\n",
        "\n",
        "#^^^^^^^^^^^^^^^^^^^^^^^^^^^^^^^^^^^^^^^^^^^^^^^^^^^^^^^^^^^^^^^^^^^^^^^^^^^^^^^\n"
      ]
    },
    {
      "cell_type": "markdown",
      "metadata": {
        "id": "TE6ARs-tauPh"
      },
      "source": [
        "### Question 10 [4pt]: Putting it all together\n",
        "\n",
        "It is time to identify the best models for our graphs."
      ]
    },
    {
      "cell_type": "markdown",
      "metadata": {
        "id": "w2LcelhLyFwg"
      },
      "source": [
        "**10.1 [4pt]** Compare the metrics computed across all models and discuss which models provide the best fit to our two graphs and which are their shortcomings. Note that the best model could be different for the citation and feture graphs."
      ]
    },
    {
      "cell_type": "markdown",
      "metadata": {
        "id": "f6cNHNr7zRNA"
      },
      "source": [
        "**Your answer here:**"
      ]
    }
  ],
  "metadata": {
    "colab": {
      "provenance": [],
      "toc_visible": true
    },
    "kernelspec": {
      "display_name": "playground",
      "language": "python",
      "name": "python3"
    },
    "language_info": {
      "codemirror_mode": {
        "name": "ipython",
        "version": 3
      },
      "file_extension": ".py",
      "mimetype": "text/x-python",
      "name": "python",
      "nbconvert_exporter": "python",
      "pygments_lexer": "ipython3",
      "version": "3.9.5"
    },
    "vscode": {
      "interpreter": {
        "hash": "1b6258ac5f9ce9aee8bc7e8f09e746bac739d42425ff8343fe5df569d2e6cb19"
      }
    }
  },
  "nbformat": 4,
  "nbformat_minor": 0
}
