{
  "cells": [
    {
      "cell_type": "markdown",
      "metadata": {
        "id": "8S5mo9I3pA2Q"
      },
      "source": [
        "# [NML23] Assignment 1: Graph theory basics\n",
        "\n",
        "TAs: [Ortal Senouf](https://people.epfl.ch/ortal.senouf) and [William Cappelletti](https://people.epfl.ch/william.cappelletti)"
      ]
    },
    {
      "cell_type": "markdown",
      "metadata": {
        "id": "5fKV_i9ZpA2U"
      },
      "source": [
        "## Students\n",
        "\n",
        "* Team: `<your team number>`\n",
        "* Students: `<student1>`, `<student2>`"
      ]
    },
    {
      "cell_type": "markdown",
      "metadata": {
        "id": "FR-x5fizpA2U"
      },
      "source": [
        "## Rules\n",
        "\n",
        "> ⚠️ **Read carefully before starting**\n",
        "\n",
        "**Deadline:** March 28th\n",
        "\n",
        "**Grading:**\n",
        "* The integrality of Assignment 1 will be scaled to 100% and will amount to 25% of the overall assignments score.\n",
        "* The total number of points for part A is **50**, the points for each exercise are stated in the instructions.\n",
        "* All team members will receive the same grade based on the team solution.\n",
        "* Collaboration between team members is encouraged. No collaboration between teams is allowed.\n",
        "\n",
        "**Expected output:**\n",
        "\n",
        "You will have coding and theoretical questions.\n",
        "\n",
        "Coding exercises shall be solved within the specified space:\n",
        "```python\n",
        "# Your solution here ###########################################################\n",
        "...\n",
        "#^^^^^^^^^^^^^^^^^^^^^^^^^^^^^^^^^^^^^^^^^^^^^^^^^^^^^^^^^^^^^^^^^^^^^^^^^^^^^^^\n",
        "```\n",
        "You can create any additional variables or functions that you think necessary, but if a variable is explicitly stated, you shall use it for the corresponding values, as it will be re-used afterwards. Anything outside shall not be touched, except if otherwise stated. Failing to comply to instructions will be penalized.\n",
        "\n",
        "Theoretical questions shall be answered in the following markdown cell. The first line will be \n",
        "> **Your answer here:**\n",
        "\n",
        "**Submission:**\n",
        "* Your submission is self-contained in the `.ipynb` file.\n",
        "\n",
        "* Code has to be clean and readable. Provide meaningful variable names and comment where needed.\n",
        "\n",
        "* Textual answers in [markdown cells][md_cells] shall be short: one to two\n",
        "  sentences. Math shall be written in [LaTeX][md_latex].\n",
        "    **NOTE**: handwritten notes pasted in the notebook are ignored\n",
        "\n",
        "* You cannot import any other library than we imported.\n",
        "  Note that Networkx is imported in the second section and cannot be used in the first except for the Question 4 of Section 1 (at the indicated portion only).\n",
        "\n",
        "* Make sure all cells are executed before submitting. I.e., if you open the notebook again it should show numerical results and plots. Cells not run are ignored.\n",
        "\n",
        "* Execute your notebook on **google colab** from a blank state before submission, to make sure it is reproducible. You can click \"Kernel\" then \"Restart Kernel and Run All Cells\" in Jupyter. We might re-run cells to ensure that the code is working and corresponds to the results.\n",
        "\n",
        "[md_cells]: https://jupyter-notebook.readthedocs.io/en/stable/examples/Notebook/Working%20With%20Markdown%20Cells.html\n",
        "[md_latex]: https://jupyter-notebook.readthedocs.io/en/stable/examples/Notebook/Working%20With%20Markdown%20Cells.html#LaTeX-equations"
      ]
    },
    {
      "cell_type": "markdown",
      "metadata": {
        "id": "cmp4-YzspA2V"
      },
      "source": [
        "## Objective\n",
        "\n",
        "The purpose of this assignment is to explore a given dataset, representing it as a network and constructing different graphs. In the first section, you will analyze the network properties. In the second section, you will explore various network models and find out the network model fitting the ones you construct from the dataset."
      ]
    },
    {
      "cell_type": "markdown",
      "metadata": {
        "id": "6UrAgd4QpA2W"
      },
      "source": [
        "## Cora Dataset\n",
        "\n",
        "The [Cora dataset](https://linqs.soe.ucsc.edu/node/236) consists of scientific publications classified into one of seven research fields. \n",
        "\n",
        "* **Citation graph:** the citation network can be constructed from the connections given in the `cora.cites` file.\n",
        "* **Feature graph:** each publication in the dataset is described by a 0/1-valued word vector indicating the absence/presence of the corresponding word from the dictionary and its research field, given in the `cora.content` file. The dictionary consists of 1433 unique words. A feature graph can be constructed using the Euclidean distance between the feature vector of the publications.\n",
        "\n",
        "The [`README`](data/cora/README) provides details about the content of [`cora.cites`](data/cora/cora.cites) and [`cora.content`](data/cora/cora.content).\n",
        "\n",
        "Let us first download the cora dataset, it will be saved in the current working directory in the (new) `cora` folder"
      ]
    },
    {
      "cell_type": "code",
      "execution_count": null,
      "metadata": {
        "id": "cve__kFpKJPB"
      },
      "outputs": [],
      "source": [
        "!pip install networkx==3.0 -q\n",
        "\n",
        "_files = !ls cora\n",
        "if _files != ['README', 'cora.cites', 'cora.content']:\n",
        "    !wget https://linqs-data.soe.ucsc.edu/public/lbc/cora.tgz\n",
        "    !tar -xvf cora.tgz"
      ]
    },
    {
      "cell_type": "markdown",
      "metadata": {
        "id": "p-klVToLpA2W"
      },
      "source": [
        "## Part A: Network Properties"
      ]
    },
    {
      "cell_type": "code",
      "execution_count": null,
      "metadata": {
        "id": "D36pWRXdpA2X"
      },
      "outputs": [],
      "source": [
        "import numpy as np\n",
        "import pandas as pd\n",
        "from matplotlib import pyplot as plt\n",
        "\n",
        "%matplotlib inline"
      ]
    },
    {
      "cell_type": "markdown",
      "metadata": {
        "id": "Bi0LL266pA2Y"
      },
      "source": [
        "### Question 1 [16pt]: Construct a Citation Graph and a Feature Graph "
      ]
    },
    {
      "cell_type": "markdown",
      "metadata": {
        "id": "4EP7SoAwITHs"
      },
      "source": [
        "#### Part 1.1: Data loading and exploration\n"
      ]
    },
    {
      "cell_type": "markdown",
      "metadata": {
        "id": "jS75sxnOJgoO"
      },
      "source": [
        "**1.1.1 [2pt]** Read the `cora.content` file into a Pandas DataFrame, indexed by the papers ID. Check the `README` file to identify the column names and\n",
        "the data format. Then, print 5 random rows and print out the number of papers\n",
        "contained in each of the reasearch fields.\n",
        "\n",
        "*Hints:*\n",
        "- Use the `read_csv` function to load data;\n",
        "- Sort papers by id;\n",
        "- Pandas DataFrames have a `value_counts()` method."
      ]
    },
    {
      "cell_type": "code",
      "execution_count": null,
      "metadata": {
        "id": "iKhgUHzqpA2a"
      },
      "outputs": [],
      "source": [
        "# Your solution here ###########################################################\n",
        "\n",
        "\n",
        "#^^^^^^^^^^^^^^^^^^^^^^^^^^^^^^^^^^^^^^^^^^^^^^^^^^^^^^^^^^^^^^^^^^^^^^^^^^^^^^^"
      ]
    },
    {
      "cell_type": "markdown",
      "metadata": {
        "id": "ccwo_y06pA2b"
      },
      "source": [
        "**1.1.2 [1pt]** Select all papers from the field `Genetic_Algorithms` and store their feature vectors into a NumPy array.\n",
        "Check its shape."
      ]
    },
    {
      "cell_type": "code",
      "execution_count": null,
      "metadata": {
        "id": "mVz-uLHBpA2b"
      },
      "outputs": [],
      "source": [
        "my_field = 'Genetic_Algorithms'\n",
        "# Your solution here ###########################################################\n",
        "features =  ...\n",
        "#^^^^^^^^^^^^^^^^^^^^^^^^^^^^^^^^^^^^^^^^^^^^^^^^^^^^^^^^^^^^^^^^^^^^^^^^^^^^^^^\n",
        "\n",
        "print(\"{} nodes with {} features\".format(*features.shape))"
      ]
    },
    {
      "cell_type": "markdown",
      "metadata": {
        "id": "vbl8pl59pA2b"
      },
      "source": [
        "**1.1.3 [2pt]** Let $D$ be the Euclidean distance matrix whose $(i,j)$ entry corresponds to the Euclidean distance between feature vectors $i$ and $j$.\n",
        "Using the feature vectors of the papers from the field which you have selected, construct $D$ as a Numpy array.\n",
        "\n",
        "*Bonus 1pt* if you can do it without for loops"
      ]
    },
    {
      "cell_type": "code",
      "execution_count": null,
      "metadata": {
        "id": "kOCfPA5fpA2c"
      },
      "outputs": [],
      "source": [
        "# Your solution here ###########################################################\n",
        "\n",
        "\n",
        "#^^^^^^^^^^^^^^^^^^^^^^^^^^^^^^^^^^^^^^^^^^^^^^^^^^^^^^^^^^^^^^^^^^^^^^^^^^^^^^^"
      ]
    },
    {
      "cell_type": "markdown",
      "metadata": {
        "id": "pnXOCKyfpA2c"
      },
      "source": [
        "**1.1.4 [1pt]** Compute and print the mean pairwise distance $\\mathbb{E}[D]$."
      ]
    },
    {
      "cell_type": "code",
      "execution_count": null,
      "metadata": {
        "id": "tOT3aX0apA2c"
      },
      "outputs": [],
      "source": [
        "# Your solution here ###########################################################\n",
        "mean_distance = ...\n",
        "print(mean_distance)\n",
        "#^^^^^^^^^^^^^^^^^^^^^^^^^^^^^^^^^^^^^^^^^^^^^^^^^^^^^^^^^^^^^^^^^^^^^^^^^^^^^^^"
      ]
    },
    {
      "cell_type": "markdown",
      "metadata": {
        "id": "j64EM0FPpA2c"
      },
      "source": [
        "**1.1.5 [2pt]** Plot an histogram of the euclidean distances."
      ]
    },
    {
      "cell_type": "code",
      "execution_count": null,
      "metadata": {
        "id": "smoYOJdlpA2c"
      },
      "outputs": [],
      "source": [
        "# Your solution here ###########################################################\n",
        "\n",
        "#^^^^^^^^^^^^^^^^^^^^^^^^^^^^^^^^^^^^^^^^^^^^^^^^^^^^^^^^^^^^^^^^^^^^^^^^^^^^^^^"
      ]
    },
    {
      "cell_type": "markdown",
      "metadata": {
        "id": "CSJ72nWYpA2d"
      },
      "source": [
        "#### Part 1.2: Building graphs"
      ]
    },
    {
      "cell_type": "markdown",
      "metadata": {
        "id": "YvNsWOn6JgoU"
      },
      "source": [
        "**1.2.1 [2pt]** First, we will create an adjacency matrix for the papers by thresholding the Euclidean distance matrix.\n",
        "The resulting (unweighted) adjacency matrix should have entries\n",
        "$$ A_{ij} = \\begin{cases} 1, \\; \\text{if} \\; d(i,j)< \\mathbb{E}[D], \\; i \\neq j, \\\\ 0, \\; \\text{otherwise.} \\end{cases} $$\n",
        "\n",
        "Build such adjacency matrix using the average distance as threshold"
      ]
    },
    {
      "cell_type": "code",
      "execution_count": null,
      "metadata": {
        "id": "d35fo9IlpA2d"
      },
      "outputs": [],
      "source": [
        "# Your solution here ###########################################################\n",
        "A_feature = ...\n",
        "#^^^^^^^^^^^^^^^^^^^^^^^^^^^^^^^^^^^^^^^^^^^^^^^^^^^^^^^^^^^^^^^^^^^^^^^^^^^^^^^"
      ]
    },
    {
      "cell_type": "markdown",
      "metadata": {
        "id": "MteCG9NOpA2d"
      },
      "source": [
        "**1.2.2 [3pt]** Now read the `cora.cites` file and construct the citation graph by converting the given citation connections into an adjacency matrix `A_citation`.\n",
        "\n",
        "*Hint:*\n",
        "- The edges are between `paper_id`s. Not all integers correspond to IDs;\n",
        "- Check the README for the connection description"
      ]
    },
    {
      "cell_type": "code",
      "execution_count": null,
      "metadata": {
        "id": "QAGhbQtEpA2d"
      },
      "outputs": [],
      "source": [
        "cora_cites = np.genfromtxt('cora/cora.cites', delimiter='\\t', dtype=int)\n",
        "# get graph edges and flatten them for processing\n",
        "print(\"Cites head:\")\n",
        "print(cora_cites[:5], end=\"\\n\\n\")\n",
        "\n",
        "# Your solution here ###########################################################\n",
        "\n",
        "\n",
        "#^^^^^^^^^^^^^^^^^^^^^^^^^^^^^^^^^^^^^^^^^^^^^^^^^^^^^^^^^^^^^^^^^^^^^^^^^^^^^^^\n",
        "print(\"Adj shape:\", A_citation.shape)"
      ]
    },
    {
      "cell_type": "markdown",
      "metadata": {
        "id": "Kf0vts9ZpA2e"
      },
      "source": [
        "**1.2.3 [2pt]** Get the adjacency matrix of the citation graph for the field that you chose.\n",
        "You have to appropriately reduce the adjacency matrix of the citation graph."
      ]
    },
    {
      "cell_type": "code",
      "execution_count": null,
      "metadata": {
        "id": "tpxIKTiMpA2e"
      },
      "outputs": [],
      "source": [
        "# Your solution here ###########################################################\n",
        "\n",
        "#^^^^^^^^^^^^^^^^^^^^^^^^^^^^^^^^^^^^^^^^^^^^^^^^^^^^^^^^^^^^^^^^^^^^^^^^^^^^^^^\n",
        "\n",
        "print(\"Adj shape:\", A_citation.shape)"
      ]
    },
    {
      "cell_type": "markdown",
      "metadata": {
        "id": "cbx0kjhNpA2e"
      },
      "source": [
        "**1.2.4 [1pt]** Test whether the citation graph is directed or undirected.\n",
        "\n",
        "*Hint:* You can check if the adjacency is symmetric."
      ]
    },
    {
      "cell_type": "code",
      "execution_count": null,
      "metadata": {
        "id": "6aYGkLzFpA2e"
      },
      "outputs": [],
      "source": [
        "# Your solution here ###########################################################\n",
        "\n",
        "#^^^^^^^^^^^^^^^^^^^^^^^^^^^^^^^^^^^^^^^^^^^^^^^^^^^^^^^^^^^^^^^^^^^^^^^^^^^^^^^"
      ]
    },
    {
      "cell_type": "markdown",
      "metadata": {
        "id": "OOw4gmxLpA2e"
      },
      "source": [
        "### Question 2 [18pt]: Degree Distribution and Moments"
      ]
    },
    {
      "cell_type": "markdown",
      "metadata": {
        "id": "SZ2b-5LupA2e"
      },
      "source": [
        "**2.1 [1pt]** Compute the total number of edges in each graph"
      ]
    },
    {
      "cell_type": "code",
      "execution_count": null,
      "metadata": {
        "id": "IbrqF06lpA2e"
      },
      "outputs": [],
      "source": [
        "# Your solution here ###########################################################\n",
        "\n",
        "\n",
        "#^^^^^^^^^^^^^^^^^^^^^^^^^^^^^^^^^^^^^^^^^^^^^^^^^^^^^^^^^^^^^^^^^^^^^^^^^^^^^^^\n",
        "\n",
        "print(f\"Number of edges in the feature graph: {num_edges_feature}\")\n",
        "print(f\"Number of edges in the citation graph: {num_edges_citation}\")"
      ]
    },
    {
      "cell_type": "markdown",
      "metadata": {
        "id": "nhWDPS0fpA2f"
      },
      "source": [
        "**2.2 [2pt]** Plot both in-degree and out-degree distributions histogram for each of the graphs."
      ]
    },
    {
      "cell_type": "code",
      "execution_count": null,
      "metadata": {
        "id": "VW9NV8D3pA2f"
      },
      "outputs": [],
      "source": [
        "# Your solution here ###########################################################\n",
        "\n",
        "# In degrees\n",
        "\n",
        "\n",
        "# Out degrees\n",
        "\n",
        "\n",
        "#^^^^^^^^^^^^^^^^^^^^^^^^^^^^^^^^^^^^^^^^^^^^^^^^^^^^^^^^^^^^^^^^^^^^^^^^^^^^^^^\n",
        "\n",
        "deg_hist_normalization = np.ones(degrees_citation_in.shape[0]) / degrees_citation_in.shape[0]\n",
        "fig, axes = plt.subplots(1, 4, figsize=(16, 4))\n",
        "axes[0].set_title('Citation graph in-degree distribution')\n",
        "axes[0].hist(degrees_citation_in, weights=deg_hist_normalization);\n",
        "axes[1].set_title('Citation graph out-degree distribution')\n",
        "axes[1].hist(degrees_citation_out, weights=deg_hist_normalization);\n",
        "axes[2].set_title('Citation graph in-degree distribution')\n",
        "axes[2].hist(degrees_feature_in, weights=deg_hist_normalization);\n",
        "axes[3].set_title('Citation graph out-degree distribution')\n",
        "axes[3].hist(degrees_feature_out, weights=deg_hist_normalization);"
      ]
    },
    {
      "cell_type": "markdown",
      "metadata": {
        "id": "tg7ttVP8M6x7"
      },
      "source": [
        "**2.3 [2pt]** From here onwards, we will consider only undirected graphs. If any of the graph is directed, make it undirected. Then compute the degree distribution and compare with the above ones."
      ]
    },
    {
      "cell_type": "code",
      "execution_count": null,
      "metadata": {
        "id": "oLiSTB6jM5tD"
      },
      "outputs": [],
      "source": [
        "# Your solution here ###########################################################\n",
        "\n",
        "#^^^^^^^^^^^^^^^^^^^^^^^^^^^^^^^^^^^^^^^^^^^^^^^^^^^^^^^^^^^^^^^^^^^^^^^^^^^^^^^"
      ]
    },
    {
      "cell_type": "markdown",
      "metadata": {
        "id": "frDhu4aQpA2f"
      },
      "source": [
        "**2.4 [2pt]** Calculate the first and second moments of the degree distribution of each graph."
      ]
    },
    {
      "cell_type": "code",
      "execution_count": null,
      "metadata": {
        "id": "6XT2TaV5pA2f"
      },
      "outputs": [],
      "source": [
        "# Your solution here ###########################################################\n",
        "\n",
        "#^^^^^^^^^^^^^^^^^^^^^^^^^^^^^^^^^^^^^^^^^^^^^^^^^^^^^^^^^^^^^^^^^^^^^^^^^^^^^^^\n",
        "\n",
        "print(f\"1st moment of citation graph: {cit_moment_1}\")\n",
        "print(f\"2nd moment of citation graph: {cit_moment_2}\")\n",
        "print(f\"1st moment of feature graph: {feat_moment_1}\")\n",
        "print(f\"2nd moment of feature graph: {feat_moment_2}\")"
      ]
    },
    {
      "cell_type": "markdown",
      "metadata": {
        "id": "F4DneNxEpA2f"
      },
      "source": [
        "**2.5 [3pt]** Explain what information the moments provide about the graphs.\n",
        "Discuss about the differences in moments between graphs by comparing their degree distributions."
      ]
    },
    {
      "cell_type": "markdown",
      "metadata": {
        "id": "UvR1k4Y0pA2f"
      },
      "source": [
        "**Your answer here:** \n"
      ]
    },
    {
      "cell_type": "markdown",
      "metadata": {
        "id": "YZMRp0DLpA2g"
      },
      "source": [
        "**2.6 [2pt]** Select the 20 largest hubs for each of the graphs and remove them. Observe the sparsity pattern of the adjacency matrices of the citation and feature graphs before and after such a reduction."
      ]
    },
    {
      "cell_type": "code",
      "execution_count": null,
      "metadata": {
        "id": "mzggzZ79pA2g"
      },
      "outputs": [],
      "source": [
        "# Your solution here ###########################################################\n",
        "# get degrees of the new unordered one\n",
        "\n",
        "reduced_A_feature = ...\n",
        "\n",
        "#^^^^^^^^^^^^^^^^^^^^^^^^^^^^^^^^^^^^^^^^^^^^^^^^^^^^^^^^^^^^^^^^^^^^^^^^^^^^^^^\n",
        "\n",
        "fig, axes = plt.subplots(2, 2, figsize=(16, 16))\n",
        "axes[0, 0].set_title('Feature graph: adjacency matrix sparsity pattern')\n",
        "axes[0, 0].spy(A_feature);\n",
        "axes[0, 1].set_title('Feature graph without top 20 hubs: adjacency matrix sparsity pattern')\n",
        "axes[0, 1].spy(reduced_A_feature);\n",
        "axes[1, 0].set_title('Citation graph: adjacency matrix sparsity pattern')\n",
        "axes[1, 0].spy(A_citation);\n",
        "axes[1, 1].set_title('Citation graph without top 20 hubs: adjacency matrix sparsity pattern')\n",
        "axes[1, 1].spy(reduced_A_citation);\n"
      ]
    },
    {
      "cell_type": "markdown",
      "metadata": {
        "id": "71DYW-kjpA2g"
      },
      "source": [
        "**2.7 [1pt]** Plot the new degree distribution histograms."
      ]
    },
    {
      "cell_type": "code",
      "execution_count": null,
      "metadata": {
        "id": "-Jg7fH-RpA2g"
      },
      "outputs": [],
      "source": [
        "# Your solution here ###########################################################\n",
        "#^^^^^^^^^^^^^^^^^^^^^^^^^^^^^^^^^^^^^^^^^^^^^^^^^^^^^^^^^^^^^^^^^^^^^^^^^^^^^^^\n",
        "\n",
        "\n",
        "#^^^^^^^^^^^^^^^^^^^^^^^^^^^^^^^^^^^^^^^^^^^^^^^^^^^^^^^^^^^^^^^^^^^^^^^^^^^^^^^\n",
        "deg_hist_normalization = np.ones(reduced_degrees_feat.shape[0]) / reduced_degrees_feat.shape[0]\n",
        "\n",
        "fig, axes = plt.subplots(1, 2, figsize=(16, 4))\n",
        "axes[0].set_title('Citation graph degree distribution')\n",
        "axes[0].hist(reduced_degrees_cit, weights=deg_hist_normalization);\n",
        "axes[1].set_title('Feature graph degree distribution')\n",
        "axes[1].hist(reduced_degrees_feat, weights=deg_hist_normalization);"
      ]
    },
    {
      "cell_type": "markdown",
      "metadata": {
        "id": "chqcaWv6pA2g"
      },
      "source": [
        "**2.8 [1pt]** Compute the first and second moments for the new graphs."
      ]
    },
    {
      "cell_type": "code",
      "execution_count": null,
      "metadata": {
        "id": "pYFLFVcepA2g"
      },
      "outputs": [],
      "source": [
        "# Your solution here ###########################################################\n",
        "#^^^^^^^^^^^^^^^^^^^^^^^^^^^^^^^^^^^^^^^^^^^^^^^^^^^^^^^^^^^^^^^^^^^^^^^^^^^^^^^\n",
        "\n",
        "\n",
        "\n",
        "#^^^^^^^^^^^^^^^^^^^^^^^^^^^^^^^^^^^^^^^^^^^^^^^^^^^^^^^^^^^^^^^^^^^^^^^^^^^^^^^\n",
        "print(\"Citation graph first moment:\", reduced_cit_moment_1)\n",
        "print(\"Citation graph second moment:\", reduced_cit_moment_2)\n",
        "print(\"Feature graph first moment: \", reduced_feat_moment_1)\n",
        "print(\"Feature graph second moment: \", reduced_feat_moment_2)"
      ]
    },
    {
      "cell_type": "markdown",
      "metadata": {
        "id": "eE970zUMpA2g"
      },
      "source": [
        "**2.9 [2pt]** Print the number of edges in the reduced graphs."
      ]
    },
    {
      "cell_type": "code",
      "execution_count": null,
      "metadata": {
        "id": "Xfkyt_OhpA2g"
      },
      "outputs": [],
      "source": [
        "# Your solution here ###########################################################\n",
        "print(\"Reduced feature graph edges:\", ...)\n",
        "print(\"Reduced citation graph edges:\", ...)\n",
        "#^^^^^^^^^^^^^^^^^^^^^^^^^^^^^^^^^^^^^^^^^^^^^^^^^^^^^^^^^^^^^^^^^^^^^^^^^^^^^^^"
      ]
    },
    {
      "cell_type": "markdown",
      "metadata": {
        "id": "WB8GTvkopA2h"
      },
      "source": [
        "**2.10 [2pt]** Describe the effect of removing the hubs in both networks and compare them. Look at the percentage changes for each moment and explain which of the moments is affected the most and in which graph. Discuss about the meaning of this change.\n",
        "\n",
        "**Hint:** Examine the degree distributions."
      ]
    },
    {
      "cell_type": "markdown",
      "metadata": {
        "id": "zcdH4cDJpA2h"
      },
      "source": [
        "**Your answer here:** \n"
      ]
    },
    {
      "cell_type": "markdown",
      "metadata": {
        "id": "kS2Da0d6pA2h"
      },
      "source": [
        "### Question 3 [8pt]: Pruning, sparsity, paths"
      ]
    },
    {
      "cell_type": "markdown",
      "metadata": {
        "id": "a_GR0hJmpA2h"
      },
      "source": [
        "**3.1 [1pt]** By adjusting the threshold of the euclidean distance matrix, prune the feature graph so that its number of edges is roughly close (within a hundred edges) to the number of edges in the citation graph."
      ]
    },
    {
      "cell_type": "code",
      "execution_count": null,
      "metadata": {
        "id": "DK9TUUIOpA2h"
      },
      "outputs": [],
      "source": [
        "# Your solution here ###########################################################\n",
        "#^^^^^^^^^^^^^^^^^^^^^^^^^^^^^^^^^^^^^^^^^^^^^^^^^^^^^^^^^^^^^^^^^^^^^^^^^^^^^^^\n",
        "\n",
        "#^^^^^^^^^^^^^^^^^^^^^^^^^^^^^^^^^^^^^^^^^^^^^^^^^^^^^^^^^^^^^^^^^^^^^^^^^^^^^^^\n",
        "\n",
        "print(f\"Number of edges in the feature graph: {num_edges_feature}\")\n",
        "print(f\"Number of edges in the feature graph after pruning: {num_edges_feature_pruned}\")\n",
        "print(f\"Number of edges in the citation graph: {num_edges_citation}\")"
      ]
    },
    {
      "cell_type": "markdown",
      "metadata": {
        "id": "BQIEJAsJpA2h"
      },
      "source": [
        "Check your results by comparing the sparsity patterns and total number of edges between the graphs."
      ]
    },
    {
      "cell_type": "code",
      "execution_count": null,
      "metadata": {
        "id": "urkjuDimpA2h"
      },
      "outputs": [],
      "source": [
        "fig, axes = plt.subplots(1, 2, figsize=(12, 6))\n",
        "axes[0].set_title('Citation graph sparsity')\n",
        "axes[0].spy(A_citation);\n",
        "axes[1].set_title('Feature graph sparsity')\n",
        "axes[1].spy(A_feature_pruned);"
      ]
    },
    {
      "cell_type": "markdown",
      "metadata": {
        "id": "2KYNw1cupA2h"
      },
      "source": [
        "Let $C_{k}(i,j)$ denote the number of paths of length $k$ from node $i$ to node $j$. \n",
        "\n",
        "We define the path matrix $P$, with entries\n",
        "$ P_{ij} = \\displaystyle\\sum_{k=0}^{N}C_{k}(i,j). $"
      ]
    },
    {
      "cell_type": "markdown",
      "metadata": {
        "id": "EoOwMmDspA2h"
      },
      "source": [
        "**3.2 [1pt]** Calculate the path matrices for both the citation and the unpruned feature graphs for $N =10$.  \n",
        "\n",
        "*Hint:* Use [powers of the adjacency matrix](https://en.wikipedia.org/wiki/Adjacency_matrix#Matrix_powers)."
      ]
    },
    {
      "cell_type": "code",
      "execution_count": null,
      "metadata": {
        "id": "wn6DdZ8KpA2h"
      },
      "outputs": [],
      "source": [
        "# Your solution here ###########################################################\n",
        "#^^^^^^^^^^^^^^^^^^^^^^^^^^^^^^^^^^^^^^^^^^^^^^^^^^^^^^^^^^^^^^^^^^^^^^^^^^^^^^^\n",
        "\n",
        "#^^^^^^^^^^^^^^^^^^^^^^^^^^^^^^^^^^^^^^^^^^^^^^^^^^^^^^^^^^^^^^^^^^^^^^^^^^^^^^^"
      ]
    },
    {
      "cell_type": "markdown",
      "metadata": {
        "id": "9wUBT7jppA2h"
      },
      "source": [
        "Check the sparsity pattern for both of path matrices."
      ]
    },
    {
      "cell_type": "code",
      "execution_count": null,
      "metadata": {
        "id": "451MukqSpA2i"
      },
      "outputs": [],
      "source": [
        "fig, axes = plt.subplots(1, 2, figsize=(16, 9))\n",
        "axes[0].set_title('Citation Path matrix sparsity')\n",
        "axes[0].spy(path_matrix_citation);\n",
        "axes[1].set_title('Feature Path matrix sparsity')\n",
        "axes[1].spy(path_matrix_feature);"
      ]
    },
    {
      "cell_type": "markdown",
      "metadata": {
        "id": "MJxrbQojpA2i"
      },
      "source": [
        "**3.3 [2pt]** Now calculate the path matrix of the pruned feature graph for $N=10$. Plot the corresponding sparsity pattern.\n",
        "Describe the differences and motivate."
      ]
    },
    {
      "cell_type": "code",
      "execution_count": null,
      "metadata": {
        "id": "jpT6ez3ypA2i"
      },
      "outputs": [],
      "source": [
        "# Your solution here ###########################################################\n",
        "#^^^^^^^^^^^^^^^^^^^^^^^^^^^^^^^^^^^^^^^^^^^^^^^^^^^^^^^^^^^^^^^^^^^^^^^^^^^^^^^\n",
        "\n",
        "\n",
        "#^^^^^^^^^^^^^^^^^^^^^^^^^^^^^^^^^^^^^^^^^^^^^^^^^^^^^^^^^^^^^^^^^^^^^^^^^^^^^^^\n",
        "plt.figure(figsize=(12, 6))\n",
        "plt.title('Feature Path matrix sparsity')\n",
        "plt.spy(path_matrix_pruned);\n"
      ]
    },
    {
      "cell_type": "markdown",
      "metadata": {
        "id": "v9UlGOlGpA2i"
      },
      "source": [
        "**Your answer here:** \n"
      ]
    },
    {
      "cell_type": "markdown",
      "metadata": {
        "id": "UAZYqiSNpA2i"
      },
      "source": [
        "**3.4 [2pt]** Describe how you can use the above process of counting paths to determine whether a graph is connected or not. State whether the original (unpruned) feature graph is connected."
      ]
    },
    {
      "cell_type": "markdown",
      "metadata": {
        "id": "_F6UQ-AfpA2i"
      },
      "source": [
        "**Your answer here:** "
      ]
    },
    {
      "cell_type": "markdown",
      "metadata": {
        "id": "8y0YME35pA2i"
      },
      "source": [
        "**3.5 [1pt]** Supposing the graph is connected, describe how to measure its diameter using the path matrix."
      ]
    },
    {
      "cell_type": "markdown",
      "metadata": {
        "id": "Y85oLgVxpA2i"
      },
      "source": [
        "**Your answer here:** \n"
      ]
    },
    {
      "cell_type": "markdown",
      "metadata": {
        "id": "BM8hsuY6pA2i"
      },
      "source": [
        "**3.6 [1pt]** If any of your graphs is connected, calculate the diameter using that process."
      ]
    },
    {
      "cell_type": "code",
      "execution_count": null,
      "metadata": {
        "id": "BsMCLo4kpA2i"
      },
      "outputs": [],
      "source": [
        "# Your solution here ###########################################################\n",
        "#^^^^^^^^^^^^^^^^^^^^^^^^^^^^^^^^^^^^^^^^^^^^^^^^^^^^^^^^^^^^^^^^^^^^^^^^^^^^^^^\n",
        "\n",
        "#^^^^^^^^^^^^^^^^^^^^^^^^^^^^^^^^^^^^^^^^^^^^^^^^^^^^^^^^^^^^^^^^^^^^^^^^^^^^^^^\n",
        "\n",
        "print(f\"The diameter is: {diameter}\")"
      ]
    },
    {
      "cell_type": "markdown",
      "metadata": {
        "id": "_GFKkTx6QRh_"
      },
      "source": [
        "### Question 4 [8pt]: Shortest path\n",
        "\n",
        "Here, we calculate the shortest path from a source node to a target node. A classic method for finding the shortest path on unweighted networks is Breadth-First Search (BFS) method. Check the BFS steps in the Lecture 'Graph Theory Basis'.\n",
        "\n",
        "To this end, we first define a function for finding the neighboring nodes of a specified node x. "
      ]
    },
    {
      "cell_type": "code",
      "execution_count": null,
      "metadata": {
        "id": "uQpEv_qLpA2j"
      },
      "outputs": [],
      "source": [
        "### Get the neighboring set of node x\n",
        "def find_neighbors(x):\n",
        "    return [i for i in range(A_feature.shape[0]) if A_feature[x][i]>0]"
      ]
    },
    {
      "cell_type": "markdown",
      "metadata": {
        "id": "P2mKlYSXpA2j"
      },
      "source": [
        "**4.1 [2pt]** Calculate the path length from the source node to the target node by filling the missing code in the algorithm: "
      ]
    },
    {
      "cell_type": "code",
      "execution_count": null,
      "metadata": {
        "id": "DeE1KQ9epA2j"
      },
      "outputs": [],
      "source": [
        "### Find the shortest path from the source node to the target node:\n",
        "source_node, target_node, path_length = 0, 10, 0\n",
        "source_set = [source_node]\n",
        "path = []\n",
        "stop_finding = 0\n",
        "iteration_number = A_feature.shape[0]\n",
        "i = 0\n",
        "if source_node==target_node:\n",
        "    stop_finding = 1\n",
        "    path.append([source_node,target_node,path_length])\n",
        "while stop_finding == 0 and i < iteration_number:\n",
        "    source_set_new = []\n",
        "    for n in source_set:\n",
        "        neighbors = find_neighbors(n)\n",
        "        if target_node in neighbors:\n",
        "            ### Your solution here #############################################\n",
        "            \n",
        "            #^^^^^^^^^^^^^^^^^^^^^^^^^^^^^^^^^^^^^^^^^^^^^^^^^^^^^^^^^^^^^^^^^^^\n",
        "            stop_finding = 1\n",
        "            break\n",
        "        else:\n",
        "            for nn in neighbors:\n",
        "                ### Your solution here #########################################\n",
        "                \n",
        "                #^^^^^^^^^^^^^^^^^^^^^^^^^^^^^^^^^^^^^^^^^^^^^^^^^^^^^^^^^^^^^^^\n",
        "            source_set_new += neighbors\n",
        "    path_length += 1\n",
        "    source_set = source_set_new.copy()\n",
        "    i += 1\n",
        "if stop_finding == 0:\n",
        "    path_length = ['Infinity']\n",
        "    shortest_path = ['None']\n",
        "else:\n",
        "    child_node = target_node\n",
        "    shortest_path = [target_node]\n",
        "    for i in range(path_length-1,-1,-1):\n",
        "        parent_node = [x for [x, y, z] in path if y==child_node and z==i]\n",
        "        shortest_path.append(parent_node[0])\n",
        "        child_node = parent_node[0] #Select one of the parent nodes as the child node in previous round\n",
        "    shortest_path.reverse()\n",
        "\n",
        "print(f\"The shortest path length from node {source_node} to node {target_node} is: {path_length}\")\n",
        "print(f\"One shortest path is: {shortest_path}\")"
      ]
    },
    {
      "cell_type": "markdown",
      "metadata": {
        "id": "N-YHblhBpA2j"
      },
      "source": [
        "**4.2 [2pt]** Get all edges visited by BFS starting from a source node by filling the missing lines in the following code: "
      ]
    },
    {
      "cell_type": "code",
      "execution_count": null,
      "metadata": {
        "id": "OmgJLVvDpA2j"
      },
      "outputs": [],
      "source": [
        "# All edges visited by BFS method starting from a source node\n",
        "# All edges visited by BFS method starting from a source node\n",
        "BFS_edges = []\n",
        "unexplored_list = list(range(A_feature.shape[0]))\n",
        "source_node = 0\n",
        "source_set = [source_node]\n",
        "unexplored_list.remove(source_node) \n",
        "stop_finding = 0\n",
        "while stop_finding == 0:\n",
        "    source_set_new = []\n",
        "    for n in source_set:\n",
        "        neighbors = find_neighbors(n)\n",
        "        for nn in neighbors:\n",
        "            if nn in unexplored_list:\n",
        "                ### Your solution here #########################################\n",
        "                \n",
        "                #^^^^^^^^^^^^^^^^^^^^^^^^^^^^^^^^^^^^^^^^^^^^^^^^^^^^^^^^^^^^^^^\n",
        "\n",
        "                source_set_new.append(nn)\n",
        "    if not source_set_new:\n",
        "        stop_finding = 1      \n",
        "    else:\n",
        "        source_set = source_set_new.copy()\n",
        "print(f\"Edges visited by Breadth-First Search method starting from node {source_node}:\")\n",
        "list(BFS_edges)[:5]"
      ]
    },
    {
      "cell_type": "markdown",
      "metadata": {
        "id": "PgJHYISppA2j"
      },
      "source": [
        "**4.3 [2pt]** Explain the difference between BFS algorithm and the Dijkstra's algorithm."
      ]
    },
    {
      "cell_type": "markdown",
      "metadata": {
        "id": "MXAxJv83pA2j"
      },
      "source": [
        "**Your answer here:**\n"
      ]
    },
    {
      "cell_type": "markdown",
      "metadata": {
        "id": "uhAredjwpA2j"
      },
      "source": [
        "**4.4 [2pt]** Check if your guess was correct using [NetworkX](https://networkx.github.io/documentation/stable/reference/algorithms/generated/networkx.algorithms.distance_measures.diameter.html).\n",
        "\n",
        "*Note:* usage of NetworkX is only allowed in this part of Section 1."
      ]
    },
    {
      "cell_type": "markdown",
      "source": [
        "Compute the diameter using NetworkX."
      ],
      "metadata": {
        "id": "1k5w4aVQlMof"
      }
    },
    {
      "cell_type": "code",
      "execution_count": null,
      "metadata": {
        "id": "ku24S_06pA2j"
      },
      "outputs": [],
      "source": [
        "import networkx as nx\n",
        "# Your solution here ###########################################################\n",
        "#^^^^^^^^^^^^^^^^^^^^^^^^^^^^^^^^^^^^^^^^^^^^^^^^^^^^^^^^^^^^^^^^^^^^^^^^^^^^^^^\n",
        "\n",
        "print(f\"Diameter according to networkx: {...}\")\n",
        "#^^^^^^^^^^^^^^^^^^^^^^^^^^^^^^^^^^^^^^^^^^^^^^^^^^^^^^^^^^^^^^^^^^^^^^^^^^^^^^^"
      ]
    },
    {
      "cell_type": "markdown",
      "metadata": {
        "id": "am0CrxROpA2j"
      },
      "source": [
        "Let us now check our results of BFS method using NetworkX:\n",
        "<br>\n",
        "(1) As before, print the first 5 BFS visited edges\n",
        "<br>\n",
        "(2) As before, calculate and print the shortest path length from node 0 to node 10 "
      ]
    },
    {
      "cell_type": "code",
      "execution_count": null,
      "metadata": {
        "id": "SnT56smypA2j"
      },
      "outputs": [],
      "source": [
        "# Your solution here ###########################################################\n",
        "#^^^^^^^^^^^^^^^^^^^^^^^^^^^^^^^^^^^^^^^^^^^^^^^^^^^^^^^^^^^^^^^^^^^^^^^^^^^^^^^\n",
        "\n",
        "#^^^^^^^^^^^^^^^^^^^^^^^^^^^^^^^^^^^^^^^^^^^^^^^^^^^^^^^^^^^^^^^^^^^^^^^^^^^^^^^"
      ]
    },
    {
      "cell_type": "code",
      "execution_count": null,
      "metadata": {
        "id": "t1Dam2xOpA2j"
      },
      "outputs": [],
      "source": [
        "# Your solution here ###########################################################\n",
        "#^^^^^^^^^^^^^^^^^^^^^^^^^^^^^^^^^^^^^^^^^^^^^^^^^^^^^^^^^^^^^^^^^^^^^^^^^^^^^^^\n",
        "\n",
        "#^^^^^^^^^^^^^^^^^^^^^^^^^^^^^^^^^^^^^^^^^^^^^^^^^^^^^^^^^^^^^^^^^^^^^^^^^^^^^^^"
      ]
    }
  ],
  "metadata": {
    "colab": {
      "provenance": [],
      "toc_visible": true
    },
    "kernelspec": {
      "display_name": "playground",
      "language": "python",
      "name": "python3"
    },
    "language_info": {
      "codemirror_mode": {
        "name": "ipython",
        "version": 3
      },
      "file_extension": ".py",
      "mimetype": "text/x-python",
      "name": "python",
      "nbconvert_exporter": "python",
      "pygments_lexer": "ipython3",
      "version": "3.10.4"
    },
    "vscode": {
      "interpreter": {
        "hash": "1b6258ac5f9ce9aee8bc7e8f09e746bac739d42425ff8343fe5df569d2e6cb19"
      }
    }
  },
  "nbformat": 4,
  "nbformat_minor": 0
}